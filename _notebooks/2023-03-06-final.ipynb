{
 "cells": [
  {
   "cell_type": "markdown",
   "metadata": {},
   "source": [
    "# MC Final \n",
    "- title: MC Final\n",
    "- categories: [Week]"
   ]
  },
  {
   "attachments": {},
   "cell_type": "markdown",
   "metadata": {},
   "source": [
    "![Alt text](../images/Screen%20Shot%202023-03-06%20at%203.44.53%20PM.png)\n",
    "\n",
    "Q2:\n",
    "    - Correct Answer: A group of cookies stored by the user’s Web browser. \n",
    "      - This is the correct answer as the cookies track and collect information about the user. Whilst an IP address is important it does not contain any valuable user information and therefore incorrect.\n",
    "\n",
    "Q5:\n",
    "    - Correct Answer: The company will be able to provide a human representative for any incoming call.\n",
    "      - The company is not able to provide a human representative for calls made after business hours and therefore is the least likely benefit. The system will automatically select the department and therefore the customer can not make an incorrect decision.\n",
    "  \n",
    "\n",
    "Q22:\n",
    "    - Correct Answer: Grid 1 Only\n",
    "      - The robot moves forward to the end of the bottom row, turns right twice, moves forward twice, turns right twice, moves forward until the end of the middle row, turns left twice, moves forward twice, turns left twice, and moves forward until Goal_Reached is true. \n",
    "\n",
    "Q28:\n",
    "    - Correct Answer: A and D\n",
    "      - I selected A and B. It can not be B as it only removes the first two characters. It is D as it links the first 2 and last 2 characters, assigning the result to a new string.\n",
    "\n",
    "Q29:\n",
    "    - Correct Answer: False, False, False\n",
    "      - The Fourth Statement assigns false to A and the Fifth Statement assigns false to C. This is due to the fact that the initial three statements assign values to the variables, followed by the fourth statement that assigns the value of (NOT (a OR b)) AND c to variable a, resulting in a false value due to a OR b being true, followed by the fifth statement assigning c AND a to variable c, which also results in a false value since a is false, with the final three statements displaying the values of the variables.\n",
    "\n",
    "Q34:\n",
    "    - Correct Answer: D\n",
    "      - This is the case as the robot needed to rotate right instead of left after the 2 blocks and therefore can not be C.\n",
    "\n",
    "Q39:\n",
    "    - Correct Answer: A\n",
    "      - This is the case as Answer B causes the count to be double the value. Misclicked on the wrong answer. \n",
    "\n",
    "Q40:\n",
    "    - Correct Answer: D\n",
    "      - No change is needed as the given code works fine. My answer was wrong as it moved the robot off the grid. Should have looked at the specific code provided more carefully.\n",
    "\n",
    "Q42:\n",
    "    - Correct Answer: B: Needs to be Sorted.\n",
    "      - This is the case as binary search needs the list to be ordered. It should not matter whether it has duplicates.\n",
    "\n",
    "Q50:\n",
    "    - Correct Answer: A and D\n",
    "      - This is the case as answer B causes the list to grow exponentialy and therefore is unreasonable. Alogirthm D represents polynomial efficiency and therefore allows the program to run in a reasonable amount of time.\n",
    "\n",
    "\n",
    "\n",
    "- Overall I think I did well on the MC as I was able to understand and answer questions based on Pseudo Code. However I think that I can improve on efficiency and comprehension of the question. I missed a few questions as I misunderstood either the question or the possible answers. I also felt that I made a few silly mistakes in which I misclicked or misread the options. I think that for the future I should work on reading through the question slowly and truly understanding what is being asked before jumping into answering the question."
   ]
  }
 ],
 "metadata": {
  "language_info": {
   "name": "python"
  },
  "orig_nbformat": 4
 },
 "nbformat": 4,
 "nbformat_minor": 2
}
