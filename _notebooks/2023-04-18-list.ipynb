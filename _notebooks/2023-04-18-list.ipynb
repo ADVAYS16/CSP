{
 "cells": [
  {
   "attachments": {},
   "cell_type": "markdown",
   "metadata": {},
   "source": [
    "#  List Simulation\n",
    "- toc: true\n",
    "- image:\n",
    "- categories: []"
   ]
  },
  {
   "cell_type": "code",
   "execution_count": 6,
   "metadata": {},
   "outputs": [
    {
     "name": "stdout",
     "output_type": "stream",
     "text": [
      "Your grocery list:\n"
     ]
    }
   ],
   "source": [
    "grocery_list = []  # initialize an empty list to store grocery items\n",
    "\n",
    "# ask the user to enter grocery items\n",
    "while True:\n",
    "    item = input(\"Enter an item for your grocery list (or 'done' to exit): \")\n",
    "    if item == \"done\":\n",
    "        break\n",
    "    else:\n",
    "        grocery_list.append(item)\n",
    "\n",
    "# print the final grocery list\n",
    "print(\"Your grocery list:\")\n",
    "for item in grocery_list:\n",
    "    print(\"- \" + item)\n"
   ]
  },
  {
   "cell_type": "code",
   "execution_count": 2,
   "metadata": {},
   "outputs": [
    {
     "name": "stdout",
     "output_type": "stream",
     "text": [
      "Your grocery list:\n",
      "- Apple: $2.0\n",
      "Total cost: $0\n",
      "Final grocery list:\n",
      "- Apple: $2.0\n",
      "Total cost: $0\n"
     ]
    }
   ],
   "source": [
    "# initialize an empty dictionary to store grocery items and their prices\n",
    "grocery_dict = {}\n",
    "\n",
    "# ask the user to enter grocery items and their prices\n",
    "while True:\n",
    "    item = input(\"Enter an item for your grocery list (or 'done' to exit): \")\n",
    "    if item == \"done\":\n",
    "        break\n",
    "    else:\n",
    "        price = float(input(\"Enter the price of {}: \".format(item)))\n",
    "        grocery_dict[item] = price\n",
    "\n",
    "# print the grocery list and total cost\n",
    "total_cost = 0\n",
    "while True:\n",
    "    print(\"Your grocery list:\")\n",
    "    for item, price in grocery_dict.items():\n",
    "        print(\"- {}: ${}\".format(item, price))\n",
    "    print(\"Total cost: ${}\".format(total_cost))\n",
    "    \n",
    "    # ask the user to choose an action\n",
    "    action = input(\"What would you like to do? (add/remove/done) \")\n",
    "    \n",
    "    # add a new item to the grocery list\n",
    "    if action == \"add\":\n",
    "        item = input(\"Enter the name of the item you would like to add: \")\n",
    "        price = float(input(\"Enter the price of {}: \".format(item)))\n",
    "        grocery_dict[item] = price\n",
    "        total_cost += price\n",
    "    \n",
    "    # remove an item from the           j\n",
    "        item = input(\"Enter the name of the item you would like to remove: \")\n",
    "        if item in grocery_dict:\n",
    "            total_cost -= grocery_dict[item]\n",
    "            del grocery_dict[item]\n",
    "        else:\n",
    "            print(\"Item not found in grocery list!\")\n",
    "    \n",
    "    # exit the loop and print the final grocery list and total cost\n",
    "    elif action == \"done\":\n",
    "        break\n",
    "\n",
    "print(\"Final grocery list:\")\n",
    "for item, price in grocery_dict.items():\n",
    "    print(\"- {}: ${}\".format(item, price))\n",
    "print(\"Total cost: ${}\".format(total_cost))\n"
   ]
  }
 ],
 "metadata": {
  "kernelspec": {
   "display_name": "base",
   "language": "python",
   "name": "python3"
  },
  "language_info": {
   "codemirror_mode": {
    "name": "ipython",
    "version": 3
   },
   "file_extension": ".py",
   "mimetype": "text/x-python",
   "name": "python",
   "nbconvert_exporter": "python",
   "pygments_lexer": "ipython3",
   "version": "3.9.12"
  },
  "orig_nbformat": 4
 },
 "nbformat": 4,
 "nbformat_minor": 2
}
