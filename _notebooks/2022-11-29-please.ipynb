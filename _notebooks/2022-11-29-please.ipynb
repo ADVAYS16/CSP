{
 "cells": [
  {
   "cell_type": "markdown",
   "metadata": {},
   "source": [
    "# Sections 3-4\n",
    "> Making Hacks Pertaining to Algorithms\n",
    "- toc: true\n",
    "- comments: true\n"
   ]
  },
  {
   "cell_type": "markdown",
   "metadata": {},
   "source": [
    "# Example One"
   ]
  },
  {
   "cell_type": "code",
   "execution_count": 4,
   "metadata": {},
   "outputs": [
    {
     "name": "stdout",
     "output_type": "stream",
     "text": [
      "John\n"
     ]
    }
   ],
   "source": [
    "ListofPeople = [\"John\", \"Advay\", \"Grant\", \"William\"]\n",
    "for person in ListofPeople:\n",
    "        if len(person) < 5:\n",
    "            print(person)"
   ]
  },
  {
   "cell_type": "markdown",
   "metadata": {},
   "source": [
    "Explanation\n",
    "**Everything** is Sequencing. <br>\n",
    "**`for person in ListofPeople`** is iteration, as it iterates over the set list of names. <br>\n",
    "**`if len(person) < 5:`** is selection, as it selects for a name with less than 5 letters."
   ]
  },
  {
   "cell_type": "markdown",
   "metadata": {},
   "source": [
    "Example 2"
   ]
  },
  {
   "cell_type": "code",
   "execution_count": 1,
   "metadata": {
    "vscode": {
     "languageId": "javascript"
    }
   },
   "outputs": [
    {
     "name": "stdout",
     "output_type": "stream",
     "text": [
      "3\n",
      "3\n"
     ]
    }
   ],
   "source": [
    "for i in range(5):\n",
    "    if i % 2 == 1:\n",
    "        print(3)"
   ]
  },
  {
   "cell_type": "markdown",
   "metadata": {},
   "source": [
    "Explanation\n",
    "**Everything** is sequencing <br>\n",
    "**`for i in range(5)`** is iteration, as it iterates over the range `[1,5]`. <br>\n",
    "**`if num % 2 == 1`** is selection, as it selects for a odd number"
   ]
  },
  {
   "cell_type": "markdown",
   "metadata": {},
   "source": [
    "Video 2\n",
    "\n",
    "1. Find the value for a, b, c, d\n",
    "- a = 1, b = 7, c = 3, d = 7\n",
    "<br>\n",
    "2. What are the values of hot and cold after executing the code segment?\n",
    "- Hot = true, cold = true"
   ]
  },
  {
   "cell_type": "markdown",
   "metadata": {},
   "source": [
    " My Own Examples"
   ]
  },
  {
   "cell_type": "markdown",
   "metadata": {},
   "source": [
    "```\n",
    "{\n",
    "a = 1\n",
    "b = 2\n",
    "c = 3\n",
    "d = 4\n",
    "e = 5\n",
    "f=(a+b+c+d+e)\n",
    "    result = f\n",
    "        display(result)\n",
    "}\n",
    "```"
   ]
  },
  {
   "cell_type": "markdown",
   "metadata": {},
   "source": [
    "Answer: 15 because 1+2+3+4+5=15."
   ]
  },
  {
   "cell_type": "markdown",
   "metadata": {},
   "source": [
    "```\n",
    "{\n",
    "    a = 2\n",
    "    b = 4\n",
    "    c = a*b\n",
    "    d = a*b*c\n",
    "    e = (a+b+c+d)/(d-b)\n",
    "    display(e)\n",
    "}\n",
    "```"
   ]
  },
  {
   "cell_type": "markdown",
   "metadata": {},
   "source": [
    "Answer: "
   ]
  },
  {
   "cell_type": "markdown",
   "metadata": {},
   "source": [
    "c = 8\n",
    "d = 64\n",
    "e = 2+4+8+64/(6-2) = 78/4 = `19.5` because based on the values of a and b, c must be 2*4=8, d must be 2*4*8=64. By finding the values of A,B,C, and D we can then calculate the value of E.\n",
    "\n"
   ]
  },
  {
   "cell_type": "markdown",
   "metadata": {},
   "source": [
    "Concatenation \n",
    "\n",
    "1. Result: `SmithB@gmail.com`, you concatenate `Smith`, `B`, and `@gmail.com` without spaces\n",
    "2. Result: `ompuook`, you take a substring of `computer` and `textbook` (`omp` and `ook` respectively) and concatenate them together"
   ]
  }
 ],
 "metadata": {
  "kernelspec": {
   "display_name": "Python 3.9.12 ('base')",
   "language": "python",
   "name": "python3"
  },
  "language_info": {
   "codemirror_mode": {
    "name": "ipython",
    "version": 3
   },
   "file_extension": ".py",
   "mimetype": "text/x-python",
   "name": "python",
   "nbconvert_exporter": "python",
   "pygments_lexer": "ipython3",
   "version": "3.9.12"
  },
  "orig_nbformat": 4,
  "vscode": {
   "interpreter": {
    "hash": "9e0221e54b57df3dfb83a7d361cc714196174ed68351e934d847ddcd947b393c"
   }
  }
 },
 "nbformat": 4,
 "nbformat_minor": 2
}
