{
 "cells": [
  {
   "cell_type": "markdown",
   "metadata": {},
   "source": [
    "# Python Hacks\n",
    "> Python Hacks\n",
    "- toc:true\n",
    "- badges: true\n",
    "- comments: true\n",
    "- categories: [Posts]\n",
    "- title: Python Hacks \"Week 2\""
   ]
  },
  {
   "cell_type": "code",
   "execution_count": 2,
   "metadata": {},
   "outputs": [
    {
     "name": "stdout",
     "output_type": "stream",
     "text": [
      "[{'FirstName': 'John', 'LastName': 'Mortensen', 'DOB': 'October 21', 'Residence': 'San Diego', 'Email': 'jmortensen@powayusd.com', 'Owns_Cars': ['2015-Fusion', '2011-Ranger', '2003-Excursion', '1997-F350', '1969-Cadillac']}, {'FirstName': 'Sunny', 'LastName': 'Naidu', 'DOB': 'August 2', 'Residence': 'Temecula', 'Email': 'snaidu@powayusd.com', 'Owns_Cars': ['4Runner']}, {'FirstName': 'Advay', 'LastName': 'Shindikar', 'DOB': 'December 16', 'Residence': 'San Diego', 'Email': 'advay1216@gmail.com', 'Owns_Cars': ['Porsche 911']}]\n",
      "3\n"
     ]
    }
   ],
   "source": [
    "InfoDb = []\n",
    "\n",
    "# InfoDB is a data structure with expected Keys and Values\n",
    "\n",
    "# Append to List a Dictionary of key/values related to a person and cars\n",
    "InfoDb.append({\n",
    "    \"FirstName\": \"John\",\n",
    "    \"LastName\": \"Mortensen\",\n",
    "    \"DOB\": \"October 21\",\n",
    "    \"Residence\": \"San Diego\",\n",
    "    \"Email\": \"jmortensen@powayusd.com\",\n",
    "    \"Owns_Cars\": [\"2015-Fusion\", \"2011-Ranger\", \"2003-Excursion\", \"1997-F350\", \"1969-Cadillac\"]\n",
    "})\n",
    "\n",
    "# Append to List a 2nd Dictionary of key/values\n",
    "InfoDb.append({\n",
    "    \"FirstName\": \"Sunny\",\n",
    "    \"LastName\": \"Naidu\",\n",
    "    \"DOB\": \"August 2\",\n",
    "    \"Residence\": \"Temecula\",\n",
    "    \"Email\": \"snaidu@powayusd.com\",\n",
    "    \"Owns_Cars\": [\"4Runner\"]\n",
    "})\n",
    "\n",
    "InfoDb.append({\n",
    "    \"FirstName\": \"Advay\",\n",
    "    \"LastName\": \"Shindikar\",\n",
    "    \"DOB\": \"December 16\",\n",
    "    \"Residence\": \"San Diego\",\n",
    "    \"Email\": \"advay1216@gmail.com\",\n",
    "    \"Owns_Cars\": [\"Porsche 911\"]\n",
    "})\n",
    "\n",
    "# Print the data structure\n",
    "print(InfoDb)\n",
    "x = len(InfoDb)\n",
    "print(x)"
   ]
  },
  {
   "cell_type": "code",
   "execution_count": 3,
   "metadata": {},
   "outputs": [
    {
     "name": "stdout",
     "output_type": "stream",
     "text": [
      "3\n",
      "John Mortensen\n",
      "\t Residence: San Diego\n",
      "\t Birth Day: October 21\n",
      "\t Cars: 2015-Fusion, 2011-Ranger, 2003-Excursion, 1997-F350, 1969-Cadillac\n",
      "\n",
      "Sunny Naidu\n",
      "\t Residence: Temecula\n",
      "\t Birth Day: August 2\n",
      "\t Cars: 4Runner\n",
      "\n",
      "Advay Shindikar\n",
      "\t Residence: San Diego\n",
      "\t Birth Day: December 16\n",
      "\t Cars: Porsche 911\n",
      "\n"
     ]
    }
   ],
   "source": [
    "x = len(InfoDb)\n",
    "print(x)\n",
    "i = 0\n",
    "def print_data(d_rec):\n",
    "    print(d_rec[\"FirstName\"], d_rec[\"LastName\"])  # using comma puts space between values\n",
    "    print(\"\\t\", \"Residence:\", d_rec[\"Residence\"]) # \\t is a tab indent\n",
    "    print(\"\\t\", \"Birth Day:\", d_rec[\"DOB\"])\n",
    "    print(\"\\t\", \"Cars: \", end=\"\")  # end=\"\" make sure no return occurs\n",
    "    print(\", \".join(d_rec[\"Owns_Cars\"]))  # join allows printing a string list with separator\n",
    "    print()\n",
    "for i in range (x):\n",
    "    record = InfoDb[i]\n",
    "    print_data(record)\n",
    "    i += 1 "
   ]
  },
  {
   "cell_type": "code",
   "execution_count": 19,
   "metadata": {},
   "outputs": [
    {
     "name": "stdout",
     "output_type": "stream",
     "text": [
      "correct\n",
      "You Recieved 14.285714285714285 %\n",
      "correct\n",
      "You Recieved 28.57142857142857 %\n",
      "correct\n",
      "You Recieved 42.857142857142854 %\n",
      "correct\n",
      "You Recieved 57.14285714285714 %\n",
      "correct\n",
      "You Recieved 71.42857142857143 %\n",
      "correct\n",
      "You Recieved 85.71428571428571 %\n",
      "correct\n",
      "You Recieved 100.0 %\n"
     ]
    }
   ],
   "source": [
    "QuizDb = []\n",
    "QuizDb.append({\n",
    "    \"Q1\": \"Who won the 2021-2022 Premier League Title?\",\n",
    "    \"A1\": \"Manchester City\",\n",
    "    \"Q2\": \"Which Premier League team has won the most titles?\",\n",
    "    \"A2\": \"Manchester United\",\n",
    "    \"Q3\": \"Who is the all time leading scorer in the Premier League?\",\n",
    "    \"A3\": \"Alan Shearer\",\n",
    "    \"Q4\": \"Who is the most successful Premier League Manager?\",\n",
    "    \"A4\": \"Sir Alex Ferguson\",\n",
    "    \"Q5\": \"How many teams play in the Premier League?\",\n",
    "    \"A5\": \"20\",\n",
    "    \"Q6\": \"How many teams are relegated each year?\",\n",
    "    \"A6\": \"3\",\n",
    "    \"Q7\": \"When was the premier league officially founded?\",\n",
    "    \"A7\": \"1992\"\n",
    "   \n",
    "})\n",
    "\n",
    "def quiz():\n",
    "    f = 1\n",
    "    score = 0\n",
    "    while f <= 7:\n",
    "        answer = input(QuizDb [0][\"Q\"+str(f)])\n",
    "        if answer == QuizDb[0][\"A\"+str(f)]:\n",
    "            print (\"correct\")\n",
    "            score += 1\n",
    "        else: \n",
    "            print(\"incorrect\")\n",
    "        f +=1\n",
    "        print(\"You Recieved\", 100*(score/7), \"%\")\n",
    "quiz()\n",
    "\n",
    "\n",
    "\n"
   ]
  }
 ],
 "metadata": {
  "kernelspec": {
   "display_name": "Python 3.10.6 64-bit",
   "language": "python",
   "name": "python3"
  },
  "language_info": {
   "codemirror_mode": {
    "name": "ipython",
    "version": 3
   },
   "file_extension": ".py",
   "mimetype": "text/x-python",
   "name": "python",
   "nbconvert_exporter": "python",
   "pygments_lexer": "ipython3",
   "version": "3.10.6"
  },
  "orig_nbformat": 4,
  "vscode": {
   "interpreter": {
    "hash": "b0fa6594d8f4cbf19f97940f81e996739fb7646882a419484c72d19e05852a7e"
   }
  }
 },
 "nbformat": 4,
 "nbformat_minor": 2
}
