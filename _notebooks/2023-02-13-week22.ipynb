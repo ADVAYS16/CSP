{
 "cells": [
  {
   "attachments": {},
   "cell_type": "markdown",
   "metadata": {},
   "source": [
    "# Big Idea 5.6 and 5.5\n",
    "- title: Big Idea 5.6 and 5.5\n",
    "- categories: [Week]"
   ]
  },
  {
   "attachments": {},
   "cell_type": "markdown",
   "metadata": {},
   "source": [
    "# 5.5\n",
    "We discussed the various software license options available for GitHub repositories. The licenses discussed included Apache License, various GNU Licenses, Mozilla Public License, MIT License, Boost Software License, The Unlicense, and Creative Commons. Each of these licenses has its own unique features and restrictions regarding the distribution and modification of source code.\n",
    "\n",
    "Furthermore, the discussion centered around the legal and ethical implications of using and sharing data on the internet. We acknowledged the issues of data theft and copyright abuse and the impact it has on the digital space. We also talked about the growing concern of data brokers who collect information through legal means and sell it for profit, and how their practices, although legal, may be considered unethical by some.\n",
    "\n",
    "For our College Board project, we decided to apply the MIT License to both the frontend and the backend of our CPT project. The team reached this decision because we believe that the MIT License provides a good balance between making the source code available and allowing for modifications. We also took into consideration that the frontend of the project, built on GitHub pages, may come with its own license and restrictions. We believe that this license aligns with our philosophy of making the source code available to anyone who wishes to modify it, while also allowing us to protect our work.\n",
    "\n",
    "# 5.6\n",
    "\n",
    "Describing Personal Identifiable Information (PII) seen on a project in Computer Science Principles:\n",
    "\n",
    "During the project, PII was collected during the process of signing into various accounts, asking for information, and providing necessary information when running commands in the shell such as sudo. Examples of PII include biometric information inputted at various accounts.\n",
    "Personal Exposure to PII:\n",
    "\n",
    "I do not have any posts or videos on the internet but I feel that my data has been exposed through data trackers, cookies, and digital footprint. In some way or form, my entire profile and interests are most likely available on the internet. I see very specific ads or videos showing up on my for you page based on my interests or personal life.\n",
    "\n",
    "Good passwords are those that are long and contain a variety of symbols, not just ASCII symbols. On the other hand, bad passwords can be too simple, use easily guessable words, and lack variation. To enhance security, Two Factor Authentication (2FA) is often used as a secondary form of authentication, providing a more secure authentication process.\n",
    "Symmetric and Asymmetric Encryption:\n",
    "\n",
    "Symmetric encryption involves the use of the same algorithm to hash and rehash information when passwords are being passed. However, in asymmetric encryption, different keys and algorithms are used for hashing, requiring the secure keeping of different keys.\n",
    "Encryption Used in AWS Deployment:\n",
    "\n",
    "In AWS deployment, server-side AES 256 encryption is used to secure information, with information being hashed back and forth when routing requests. This ensures the security of the information.\n",
    "Phishing Schemes:\n",
    "\n",
    "Although I haven't personally fallen for any phishing schemes, I have encountered a scam in which fake youtube or instagram accounts create a giveaway in which you can enter. They then take your information and either sell it or use it as black mail."
   ]
  }
 ],
 "metadata": {
  "kernelspec": {
   "display_name": "Python 3",
   "language": "python",
   "name": "python3"
  },
  "language_info": {
   "name": "python",
   "version": "3.10.9"
  },
  "orig_nbformat": 4,
  "vscode": {
   "interpreter": {
    "hash": "b0fa6594d8f4cbf19f97940f81e996739fb7646882a419484c72d19e05852a7e"
   }
  }
 },
 "nbformat": 4,
 "nbformat_minor": 2
}
