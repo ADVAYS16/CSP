{
 "cells": [
  {
   "cell_type": "markdown",
   "metadata": {},
   "source": [
    "# Sections 1-2-3-4: Reflection\n",
    "> Sections 1 - 4 Lesson Homework Reflection\n",
    "- toc: true\n",
    "- comments: true\n"
   ]
  },
  {
   "cell_type": "markdown",
   "metadata": {},
   "source": [
    "# What I Received\n",
    "- Sections 1-2: 0.8/1\n",
    "  - I lost points due to the fact that I was missing a part of the 3.2 Video 2 Hacks. \n",
    "- Sections 3-4: 0.9/1\n",
    "  - I lost points due to the fact that I did not go above and beyond. I completed all parts required but did not have anything extra such as a reflection or summary.\n",
    "\n",
    "# My Thoughts\n",
    "\n",
    "I unfortunately absent on Monday and Tuesday. Due to this I missed both of the lessons. I feel that I could have been more thorough with my work for both of the sections. Something I want to do next time is blog about the lessons or add my personal reflection. Along side these blog posts I feel that I should review the material taught by the group in order to gain a deeper understanding. I think that I should also write down what the homework for each section is as I found it hard to find where the hacks were posted. For my group project I spent time learning the material in order to better prepare for my lesson."
   ]
  }
 ],
 "metadata": {
  "kernelspec": {
   "display_name": "Python 3.10.7 64-bit",
   "language": "python",
   "name": "python3"
  },
  "language_info": {
   "name": "python",
   "version": "3.10.7"
  },
  "orig_nbformat": 4,
  "vscode": {
   "interpreter": {
    "hash": "b0fa6594d8f4cbf19f97940f81e996739fb7646882a419484c72d19e05852a7e"
   }
  }
 },
 "nbformat": 4,
 "nbformat_minor": 2
}
