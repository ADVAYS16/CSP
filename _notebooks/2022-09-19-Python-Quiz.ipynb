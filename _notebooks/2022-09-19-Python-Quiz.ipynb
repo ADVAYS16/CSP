{
 "cells": [
  {
   "cell_type": "markdown",
   "metadata": {},
   "source": [
    "Welcome to my Python Quiz!"
   ]
  },
  {
   "cell_type": "markdown",
   "metadata": {},
   "source": [
    "# Python Quiz\n",
    "> Python Quiz\n",
    "- toc:true\n",
    "- badges: true\n",
    "- comments: true\n",
    "- categories: [Posts]\n",
    "- title: Premier League: Python Quiz"
   ]
  },
  {
   "cell_type": "code",
   "execution_count": 1,
   "metadata": {},
   "outputs": [
    {
     "name": "stdout",
     "output_type": "stream",
     "text": [
      "Correct\n",
      "Correct\n",
      "Correct\n",
      "Correct\n",
      "Correct\n",
      "Correct\n",
      "Correct\n",
      "Correct\n",
      "You got: 100.0 %\n"
     ]
    }
   ],
   "source": [
    "def quiz():\n",
    "    points = 0\n",
    "    questions = [\"Who won the 2021-2022 Premier League Title?\", \"Which Premier League team has won the most titles?\", \"Who is the all time leading scorer in the Premier League?\", \"Who is the most successful Premier League Manager?\", \"How many teams play in the Premier League?\", \"How Many teams are relegated every year?\", \"When was the Premier League officially Founded?\"]\n",
    "    answers = [\"Manchester City\", \"Manchester United\", \"Alan Shearer\", \"Sir Alex Ferguson\", \"20\", \"3\", \"1992\"]\n",
    "    num = 0\n",
    "    while num <= 6:\n",
    "        answer = input(questions[num])\n",
    "        if answer == answers[num]:\n",
    "            print(\"Correct\")\n",
    "            points = points + 1\n",
    "        else:\n",
    "            print(\"Incorrect\")\n",
    "        num += 1\n",
    "    print(\"You got:\", (points/7)*100, \"%\")\n",
    "quiz()"
   ]
  }
 ],
 "metadata": {
  "kernelspec": {
   "display_name": "Python 3.9.6 64-bit",
   "language": "python",
   "name": "python3"
  },
  "language_info": {
   "codemirror_mode": {
    "name": "ipython",
    "version": 3
   },
   "file_extension": ".py",
   "mimetype": "text/x-python",
   "name": "python",
   "nbconvert_exporter": "python",
   "pygments_lexer": "ipython3",
   "version": "3.9.6"
  },
  "orig_nbformat": 4,
  "vscode": {
   "interpreter": {
    "hash": "31f2aee4e71d21fbe5cf8b01ff0e069b9275f58929596ceb00d14d90e3e16cd6"
   }
  }
 },
 "nbformat": 4,
 "nbformat_minor": 2
}
