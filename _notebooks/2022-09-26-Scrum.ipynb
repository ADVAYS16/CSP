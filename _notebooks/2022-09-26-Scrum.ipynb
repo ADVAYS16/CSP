{
 "cells": [
  {
   "cell_type": "markdown",
   "metadata": {},
   "source": [
    "# Scrum Team / Agile Methodology\n",
    "> Bash Notebook Check\n",
    "- toc:true\n",
    "- badges: true\n",
    "- comments: true\n",
    "- categories: [Posts]\n",
    "- title: Scrum Team / Agile Methodology"
   ]
  },
  {
   "cell_type": "markdown",
   "metadata": {},
   "source": [
    "MAIN APP: Fitness Based Log\n",
    "\n",
    "Idea An App To Show A person’s fitness journey and overall progress toward there goals Elements\n",
    "For people to log their fitness goals and progress Max Heart Rate Calorie counter BMI calculator Plan for future goals Dietary Advice Resources for fitness Fitness Quiz Water Log\n",
    "\n",
    "Purpose The purpose we will use in our app will be able to give an output through a person input, using arrays, lists, if else and other elements of code"
   ]
  },
  {
   "cell_type": "markdown",
   "metadata": {},
   "source": [
    "![](../images/Agile.png)"
   ]
  }
 ],
 "metadata": {
  "kernelspec": {
   "display_name": "Python 3.10.6 64-bit",
   "language": "python",
   "name": "python3"
  },
  "language_info": {
   "name": "python",
   "version": "3.10.7"
  },
  "orig_nbformat": 4,
  "vscode": {
   "interpreter": {
    "hash": "b0fa6594d8f4cbf19f97940f81e996739fb7646882a419484c72d19e05852a7e"
   }
  }
 },
 "nbformat": 4,
 "nbformat_minor": 2
}
