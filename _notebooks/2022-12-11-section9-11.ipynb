{
 "cells": [
  {
   "cell_type": "markdown",
   "metadata": {},
   "source": [
    "# Unit 3 Sections 9-11 Hacks  \n",
    "\n",
    "- toc: true \n",
    "- categories: [Student Teaching]\n",
    "- badges: true\n",
    "- comments: true"
   ]
  },
  {
   "cell_type": "markdown",
   "metadata": {},
   "source": [
    "# 1 \n",
    "Write this Boolean statement in the form of a conditional (if/else) statement: stayInside⟵((isCold) OR (isRaining))"
   ]
  },
  {
   "cell_type": "code",
   "execution_count": null,
   "metadata": {},
   "outputs": [],
   "source": [
    "IF (isCold or isRaining) {\n",
    "    stayInside ⟵ True\n",
    "}\n",
    "ELSE {\n",
    "    stayInside ⟵ False\n",
    "}"
   ]
  },
  {
   "cell_type": "markdown",
   "metadata": {},
   "source": [
    "# 2\n",
    "Create an algorithm that uses selection and/or iteration that will represent one player’s complete turn.\n",
    "- During a turn, each player gets 4 attempts/chances to get the greatest number possible.\n",
    "- During each attempt, the player will use a random number generator to select a random number from 1 to 10.\n",
    "- After they have had 4 chances, their score is the greatest number they received from the random number generator, and their turn is over."
   ]
  },
  {
   "cell_type": "code",
   "execution_count": 1,
   "metadata": {},
   "outputs": [
    {
     "name": "stdout",
     "output_type": "stream",
     "text": [
      "3\n",
      "10\n"
     ]
    }
   ],
   "source": [
    "import random\n",
    "\n",
    "def turn():\n",
    "    max_int = 0\n",
    "    for i in range(4):\n",
    "        nint = random.randint(1, 10)\n",
    "        if nint > max_int:\n",
    "            max_int = nint\n",
    "    print(max_int)\n",
    "\n",
    "turn()\n",
    "turn()"
   ]
  },
  {
   "cell_type": "markdown",
   "metadata": {},
   "source": [
    "# 3. \n",
    "Create an algorithm that will allow the arrow to reach the gray square:"
   ]
  },
  {
   "cell_type": "markdown",
   "metadata": {},
   "source": [
    "{\n",
    "if CANMOVEFORWARD{\n",
    "    moveForwards\n",
    "}\n",
    "else{\n",
    "    if CANTURNRIGHT{\n",
    "        turnright\n",
    "    }\n",
    "    if CANTURNLEFT{\n",
    "        turnleft\n",
    "    }\n",
    "}\n",
    "}\n"
   ]
  },
  {
   "cell_type": "markdown",
   "metadata": {},
   "source": [
    "# 4\n",
    "Make a binary search tree of different the list [1,2,3,4,6,9,11,69]\n",
    "\n",
    "![](https://github.com/kayleehou/myproject/blob/master/images/binarysearchtree.PNG?raw=true)"
   ]
  },
  {
   "cell_type": "markdown",
   "metadata": {},
   "source": [
    "# 5\n",
    "Explain thoroughly how to find the number 69 in the list above (use key words)\n",
    "- Sequential Search: Iterate through the list and compare each number until the number 69 matches. 7 Iterations.\n",
    "- Binary Search: Start from the middle index, then continue by looking at the first and last index, and dividing by two. Continue this process until you have reached the number 69."
   ]
  },
  {
   "cell_type": "markdown",
   "metadata": {},
   "source": [
    "# 6\n",
    "Make a diagram explaining how you found the list (not tree, include equation)\n",
    "![](https://github.com/kayleehou/myproject/blob/master/images/binarydiagram3.PNG?raw=true)"
   ]
  },
  {
   "cell_type": "markdown",
   "metadata": {},
   "source": [
    "# 7\n",
    "Put this list of strings in a order that can be used for binary search [“store”,”Market”,”Walmart”,Target”,”Ralphs”]\n",
    "\n",
    "[”Market”,”Ralphs”,“Store”,Target”,”Walmart”]\n",
    "\n",
    "Alphabetical Order is compatible with Binary Search.\n"
   ]
  },
  {
   "cell_type": "markdown",
   "metadata": {},
   "source": [
    "# 8\n",
    "Explain why Binary Search is more efficient than Sequential Search\n",
    "- Binary search is more efficient because it moves exponentially while sequential search moves through the list one by one. Binary Search allows an individual to remove half the possibilities per iteration.Therefore in large sets of data, binary search would rule out half the numbers in one iterations, while sequential search has to go through every possibility. \n",
    "  \n",
    "# 9\n",
    "[64,36,16,11,9] Explain which number you are finding, how many check it would take, and make a binary search tree\n",
    "- I am searching for the number 36, which would take two iterations. I would start at the number 16 or the middle index. Then you would do 1+3/2 to get 2, so the next middle index would be 36.\n",
    "  \n",
    "![Alt text](../images/images/binary%20search.png)\n"
   ]
  }
 ],
 "metadata": {
  "kernelspec": {
   "display_name": "Python 3.10.7 64-bit",
   "language": "python",
   "name": "python3"
  },
  "language_info": {
   "codemirror_mode": {
    "name": "ipython",
    "version": 3
   },
   "file_extension": ".py",
   "mimetype": "text/x-python",
   "name": "python",
   "nbconvert_exporter": "python",
   "pygments_lexer": "ipython3",
   "version": "3.10.7"
  },
  "orig_nbformat": 4,
  "vscode": {
   "interpreter": {
    "hash": "b0fa6594d8f4cbf19f97940f81e996739fb7646882a419484c72d19e05852a7e"
   }
  }
 },
 "nbformat": 4,
 "nbformat_minor": 2
}
