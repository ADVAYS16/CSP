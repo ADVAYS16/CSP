{
 "cells": [
  {
   "cell_type": "markdown",
   "metadata": {},
   "source": [
    "# HTML Hacks\n",
    "> Python Hacks\n",
    "- toc:true\n",
    "- badges: true\n",
    "- comments: true\n",
    "- categories: [Posts]\n",
    "- title: HTML Hacks (Theme Change)"
   ]
  },
  {
   "cell_type": "markdown",
   "metadata": {},
   "source": [
    "I was able to change the overall theme to purple and the text to black. I think it was a bit more difficult to read and less aesthetically pleasing. I later also returned to dark theme and changed the text color to green. Overall I liked the green text but I did not like the purple background. I also noticed that the changes to Fastpages caused the blog to be slow and buggy. \n",
    " \n",
    "\n",
    "https://github.com/ADVAYS16/CSP-/blob/master/images/Untitled%20design-2.png\n",
    "https://github.com/ADVAYS16/CSP-/blob/master/images/Untitled%20design.png"
   ]
  }
 ],
 "metadata": {
  "kernelspec": {
   "display_name": "Python 3.10.6 64-bit",
   "language": "python",
   "name": "python3"
  },
  "language_info": {
   "name": "python",
   "version": "3.10.6"
  },
  "orig_nbformat": 4,
  "vscode": {
   "interpreter": {
    "hash": "b0fa6594d8f4cbf19f97940f81e996739fb7646882a419484c72d19e05852a7e"
   }
  }
 },
 "nbformat": 4,
 "nbformat_minor": 2
}
