{
 "cells": [
  {
   "attachments": {},
   "cell_type": "markdown",
   "metadata": {},
   "source": [
    "# Sorting Algorithms\n",
    "> Working with Data Structures and manipulating data.\n",
    "\n",
    "- toc: true\n",
    "- categories: []\n",
    "- type: pbl\n",
    "- week: 34"
   ]
  },
  {
   "attachments": {},
   "cell_type": "markdown",
   "metadata": {},
   "source": [
    "[wget link](https://raw.githubusercontent.com/nighthawkcoders/APCSP/master/_notebooks/2023-05-15-DS-sorting.ipynb)"
   ]
  },
  {
   "cell_type": "code",
   "execution_count": 3,
   "metadata": {},
   "outputs": [
    {
     "name": "stdout",
     "output_type": "stream",
     "text": [
      "Random List\n",
      "[72, 99, 40, 20, 1, 28, 76, 84, 74, 90]\n"
     ]
    }
   ],
   "source": [
    "import random\n",
    "\n",
    "numbers = []\n",
    "for i in range(10):\n",
    "    numbers.append(random.randint(0,100))\n",
    "print(\"Random List\")\n",
    "print(numbers)"
   ]
  },
  {
   "attachments": {},
   "cell_type": "markdown",
   "metadata": {},
   "source": [
    "# Warm Up\n",
    "\n",
    "> Discuss with a partner... \n",
    "What are some strategies you would use to sort this list? (Don't worry about writing code for now)\n",
    "- Find the smallest integer value and place it to the left. Continue through the rest of the list until the list is sorted from least to greatest."
   ]
  },
  {
   "attachments": {},
   "cell_type": "markdown",
   "metadata": {},
   "source": [
    "# Explore\n",
    "\n",
    "Get into groups of 3\n",
    "\n",
    "We will be focusing on 4 algorithms today.\n",
    "\n",
    "We will look at the first one together, Bubble Sort\n",
    "\n",
    "![](images/bubble-sort.png)\n",
    "\n",
    "What is happening with this sort?\n",
    "    - examining each set of adjacent elements in the string, from left to right, switching their positions if they are out of order.\n",
    "\n",
    "In your groups you will each choose to be an expert on a sorting algorithm. Merge, Selection, and Insertion.\n",
    "Take about 5 minutes to read about your algorithm (Geek for Geeks linked below) and be ready to explain it to your other group members. \n",
    "\n",
    "[Merge](https://www.geeksforgeeks.org/merge-sort/#)\n",
    "    - Merge sort is to divide the array into two halves, sort each half, and then merge the sorted halves back together. This process is repeated until the entire array is sorted. \n",
    "    - O(n log n): Can sort very quickly through large lists of data.\n",
    "\n",
    "[Selection](https://www.geeksforgeeks.org/selection-sort/)\n",
    "\n",
    "[Insertion](https://www.geeksforgeeks.org/insertion-sort/)"
   ]
  },
  {
   "attachments": {},
   "cell_type": "markdown",
   "metadata": {},
   "source": [
    "## Practice 1\n",
    "\n",
    "a = [75, 17, 46, 80, 67, 45, 69, 79, 40, 0]\n",
    "\n",
    "Bubble Sort is a sorting algorithm that operates by repeatedly swapping adjacent elements if they are in the incorrect order. This process continues until the entire list is sorted.\n",
    "\n",
    "Here's how the sorting process unfolds for the given list:\n",
    "\n",
    "Pass 1: [17, 46, 75, 67, 45, 69, 79, 40, 0, 80]\n",
    "\n",
    "Pass 2: [17, 46, 67, 45, 69, 75, 40, 0, 79, 80]\n",
    "\n",
    "Pass 3: [17, 46, 45, 67, 69, 40, 0, 75, 79, 80]\n",
    "\n",
    "Pass 4: [17, 45, 46, 67, 40, 0, 69, 75, 79, 80]\n",
    "\n",
    "Pass 5: [17, 45, 46, 40, 0, 67, 69, 75, 79, 80]\n",
    "\n",
    "Pass 6: [17, 45, 40, 0, 46, 67, 69, 75, 79, 80]\n",
    "\n",
    "Pass 7: [17, 40, 0, 45, 46, 67, 69, 75, 79, 80]\n",
    "\n",
    "Pass 8: [17, 0, 40, 45, 46, 67, 69, 75, 79, 80]\n",
    "\n",
    "Pass 9: [0, 17, 40, 45, 46, 67, 69, 75, 79, 80]\n",
    "\n",
    "After nine passes, the list is sorted in ascending order using Bubble Sort.\n",
    "\n",
    "Selection Sort is another sorting algorithm that functions by repeatedly finding the minimum element from the unsorted section of the list and placing it at the beginning. It divides the list into two parts: the sorted and the unsorted. Here's how the sorting process unfolds for the given list:\n",
    "\n",
    "Pass 1: [0, 17, 46, 80, 67, 45, 69, 79, 40, 75]\n",
    "\n",
    "Pass 2: [0, 17, 40, 80, 67, 45, 69, 79, 46, 75]\n",
    "\n",
    "Pass 3: [0, 17, 40, 45, 67, 80, 69, 79, 46, 75]\n",
    "\n",
    "Pass 4: [0, 17, 40, 45, 46, 80, 69, 79, 67, 75]\n",
    "\n",
    "Pass 5: [0, 17, 40, 45, 46, 67, 69, 79, 80, 75]\n",
    "\n",
    "Pass 6: [0, 17, 40, 45, 46, 67, 69, 75, 80, 79]\n",
    "\n",
    "Pass 7: [0, 17, 40, 45, 46, 67, 69, 75, 79, 80]\n",
    "\n",
    "After seven passes, the list is sorted in ascending order using Selection Sort.\n",
    "\n",
    "## Practice 2\n",
    "[88, 39, 53, 39, 58, 43, 74, 81, 71, 51]\n",
    "\n",
    "How would you sort this list with...\n",
    "\n",
    "Merge Sort\n",
    "Merge Sort is a divide-and-conquer algorithm that recursively divides the list into smaller halves, sorts them individually, and then merges them back together to obtain the final sorted list. Here's how the sorting process unfolds for the given list:\n",
    "\n",
    "Step 1: Divide the list into individual elements [88], [39], [53], [39], [58], [43], [74], [81], [71], [51]\n",
    "\n",
    "Step 2: Merge the individual elements pairwise [39, 88], [39, 53], [39, 53, 88], [39, 39, 53, 53, 88], [43, 58], [43, 58, 74], [43, 58, 74, 81], [51, 71], [51, 71, 81], [51, 71, 74, 81]\n",
    "\n",
    "Step 3: Merge the pairs until we obtain the final sorted list [39, 39, 53, 53, 58, 88], [43, 58, 74, 74, 81], [51, 71, 71, 81]\n",
    "\n",
    "Final sorted list: [39, 39, 43, 51, 53, 53, 58, 71, 74, 74, 81, 81, 88]\n",
    "\n",
    "Insertion Sort\n",
    "Insertion Sort works by dividing the list into sorted and unsorted portions. It iterates over each element in the unsorted portion and inserts it into the correct position in the sorted portion.\n",
    "\n",
    "Pass 1: [39, 88, 53, 39, 58, 43, 74, 81, 71, 51]\n",
    "\n",
    "Pass 2: [39, 53, 88, 39, 58, 43, 74, 81, 71, 51]\n",
    "\n",
    "Pass 3: [39, 39, 53, 88, 58, 43, 74, 81, 71, 51]\n",
    "\n",
    "Pass 4: [39, 39, 53, 58, 88, 43, 74, 81, 71, 51]\n",
    "\n",
    "Pass 5: [39, 39, 43, 53, 58, 88, 74, 81, 71, 51]\n",
    "\n",
    "Pass 6: [39, 39, 43, 53, 58, 74, 88, 81, 71, 51]\n",
    "\n",
    "Pass 7: [39, 39, 43, 53, 58, 74, 81, 88, 71, 51]\n",
    "\n",
    "Pass 8: [39, 39, 43, 53, 58, 71, 74, 81, 88, 51]\n",
    "\n",
    "Pass 9: [39, 39, 43, 53, 58, 71, 74, 81, 88, 51]\n",
    "\n",
    "Pass 10: [39, 39, 43, 51, 53, 58, 71, 74, 81, 88]"
   ]
  },
  {
   "cell_type": "code",
   "execution_count": 7,
   "metadata": {},
   "outputs": [
    {
     "name": "stdout",
     "output_type": "stream",
     "text": [
      "[75, 17, 46, 80, 67, 45, 69, 79, 40, 0]\n",
      "Sorted array\n",
      "0  17  40  45  46  67  69  75  79  80  "
     ]
    }
   ],
   "source": [
    "a = [75, 17, 46, 80, 67, 45, 69, 79, 40, 0]\n",
    "print(a)\n",
    "\n",
    "# Traverse through all array elements\n",
    "for i in range(len(a)):\n",
    "\t\n",
    "\t# Find the minimum element in remaining\n",
    "\t# unsorted array\n",
    "\tmin_idx = i\n",
    "\tfor j in range(i+1, len(a)):\n",
    "\t\tif a[min_idx] > a[j]:\n",
    "\t\t\tmin_idx = j\n",
    "\t\t\t\n",
    "\t# Swap the found minimum element with\n",
    "\t# the first element\t\n",
    "\ta[i], a[min_idx] = a[min_idx], a[i]\n",
    "\n",
    "# Driver code to test above\n",
    "print (\"Sorted array\")\n",
    "for i in range(len(a)):\n",
    "\tprint(\"%d\" %a[i],end=\"  \")"
   ]
  },
  {
   "cell_type": "code",
   "execution_count": 8,
   "metadata": {},
   "outputs": [
    {
     "name": "stdout",
     "output_type": "stream",
     "text": [
      "Given array is\n",
      "88 39 53 39 58 43 74 81 71 51 \n",
      "Sorted array is: \n",
      "39 39 43 51 53 58 71 74 81 88 \n"
     ]
    }
   ],
   "source": [
    "# Merge Sort\n",
    "\n",
    "# Python program for implementation of MergeSort\n",
    "def mergeSort(arr):\n",
    "\tif len(arr) > 1:\n",
    "\n",
    "\t\t# Finding the mid of the array\n",
    "\t\tmid = len(arr)//2\n",
    "\n",
    "\t\t# Dividing the array elements\n",
    "\t\tL = arr[:mid]\n",
    "\n",
    "\t\t# into 2 halves\n",
    "\t\tR = arr[mid:]\n",
    "\n",
    "\t\t# Sorting the first half\n",
    "\t\tmergeSort(L)\n",
    "\n",
    "\t\t# Sorting the second half\n",
    "\t\tmergeSort(R)\n",
    "\n",
    "\t\ti = j = k = 0\n",
    "\n",
    "\t\t# Copy data to temp arrays L[] and R[]\n",
    "\t\twhile i < len(L) and j < len(R):\n",
    "\t\t\tif L[i] <= R[j]:\n",
    "\t\t\t\tarr[k] = L[i]\n",
    "\t\t\t\ti += 1\n",
    "\t\t\telse:\n",
    "\t\t\t\tarr[k] = R[j]\n",
    "\t\t\t\tj += 1\n",
    "\t\t\tk += 1\n",
    "\n",
    "\t\t# Checking if any element was left\n",
    "\t\twhile i < len(L):\n",
    "\t\t\tarr[k] = L[i]\n",
    "\t\t\ti += 1\n",
    "\t\t\tk += 1\n",
    "\n",
    "\t\twhile j < len(R):\n",
    "\t\t\tarr[k] = R[j]\n",
    "\t\t\tj += 1\n",
    "\t\t\tk += 1\n",
    "\n",
    "# Code to print the list\n",
    "\n",
    "\n",
    "def printList(arr):\n",
    "\tfor i in range(len(arr)):\n",
    "\t\tprint(arr[i], end=\" \")\n",
    "\tprint()\n",
    "\n",
    "\n",
    "# Driver Code\n",
    "if __name__ == '__main__':\n",
    "\tarr = [88, 39, 53, 39, 58, 43, 74, 81, 71, 51]\n",
    "\tprint(\"Given array is\", end=\"\\n\")\n",
    "\tprintList(arr)\n",
    "\tmergeSort(arr)\n",
    "\tprint(\"Sorted array is: \", end=\"\\n\")\n",
    "\tprintList(arr)\n",
    "\n",
    "# This code is contributed by Mayank Khanna\n",
    "\n"
   ]
  },
  {
   "attachments": {},
   "cell_type": "markdown",
   "metadata": {},
   "source": [
    "# Sorting Words\n",
    "> Sorting strings works in the same way as integers. Using your expertise algorithm, sort the following list of random words."
   ]
  },
  {
   "cell_type": "code",
   "execution_count": 28,
   "metadata": {},
   "outputs": [
    {
     "name": "stdout",
     "output_type": "stream",
     "text": [
      "Random List\n",
      "None\n",
      "['benzofuryl', 'counterwave', 'pretentative', 'rhabdosome', 'romanceproof', 'slicer', 'substituting', 'tartrous', 'terrestrialize', 'uncontentedness']\n"
     ]
    },
    {
     "name": "stderr",
     "output_type": "stream",
     "text": [
      "[nltk_data] Downloading package words to\n",
      "[nltk_data]     /Users/advayshindikar/nltk_data...\n",
      "[nltk_data]   Package words is already up-to-date!\n"
     ]
    }
   ],
   "source": [
    "import nltk\n",
    "import random\n",
    "\n",
    "nltk.download('words')  # Download the word list (only required once)\n",
    "\n",
    "from nltk.corpus import words\n",
    "\n",
    "english_words = words.words()\n",
    "#print(len(english_words))  # Prints the number of words in the list\n",
    "\n",
    "# You can now use the 'english_words' list in your code\n",
    "\n",
    "words = []\n",
    "for i in range(10):\n",
    "    words.append(english_words[random.randint(0,len(english_words))])\n",
    "print(\"Random List\")\n",
    "print(words.sort())\n",
    "print(words)"
   ]
  },
  {
   "attachments": {},
   "cell_type": "markdown",
   "metadata": {},
   "source": [
    "## Discuss \n",
    "Answer the following with your group.\n",
    "\n",
    "- When should you use each algorithm? What makes an algorithm the right choice?\n",
    "- Given the following lists...\n",
    "    - [0, 2, 6, 4, 8, 10]\n",
    "      - Use insertion sort.\n",
    "    - [Elephant, Banana, Cat, Dog, Apple]\n",
    "      - Use bubble sort.\n",
    "    - [29, 13, 83, 47, 32, 78, 100, 60, 65, 15, 24, 9, 40, 68, 53, 8, 90, 58, 39, 32, 34, 91, 74, 94, 49, 87, 34, 87, 23, 17, 27, 2, 38, 58, 84, 15, 9, 46, 74, 40, 44, 8, 55, 28, 81, 92, 81, 88, 53, 38, 19, 21, 9, 54, 21, 67, 3, 41, 3, 74, 13, 71, 70, 45, 5, 36, 80, 64, 97, 86, 73, 74, 94, 79, 49, 32, 20, 68, 64, 69, 1, 77, 31, 56, 100, 80, 48, 75, 85, 93, 67, 57, 26, 56, 43, 53, 59, 28, 67, 50]\n",
    "      - Merge Sort as the list is very large and therefore needs an efficient sort.\n",
    "Select the algorithm you believe is best for each, explain."
   ]
  },
  {
   "attachments": {},
   "cell_type": "markdown",
   "metadata": {},
   "source": [
    "## HACKS\n",
    "> Provided below is a Bubble Sort Algorithm sorting a list of dictionaries based off of selected key.\n",
    "\n",
    "- Now it's time to do some coding...\n",
    "\n",
    "- Run code and then research and answer these questions...\n",
    "    - Is a list and/or dictionary in python considered a primitive or collection type?  Why?\n",
    "    - Is the list passed into bubble sort \"pass-by-value\" or \"pass-by-reference? Describe why in relation to output.\n",
    "\n",
    "- Implement new cell(s) and/or organize cells to do the following.\n",
    "    - Create your own list\n",
    "    - Use your expertise sorting algorithm (selection, insertion, merge). Note, I got my bubble sort from Geek for Geeks and made modifications. Each student in a group should have a unique algorithm.\n",
    "    - Test your list with my bubble sort\n",
    "    - Test my list with your new sort\n",
    "    - Research analysis on sorting: comparisons, swaps, time.  Build this into your hacks.\n",
    "    - Find a better way to print the data, key first, then other elements in viewable form.\n",
    "\n",
    "Use the code below to help guide your adventure"
   ]
  },
  {
   "cell_type": "code",
   "execution_count": 38,
   "metadata": {},
   "outputs": [
    {
     "name": "stdout",
     "output_type": "stream",
     "text": [
      "Unsorted List [8, 97, 39048, 223, 6, 14, 38]\n",
      "Sorted List: [6, 8, 14, 38, 97, 223, 39048]\n"
     ]
    }
   ],
   "source": [
    "def merge_sort(arr):\n",
    "    if len(arr) <= 1:\n",
    "        return arr\n",
    "\n",
    "    mid = len(arr) // 2\n",
    "    left_half = arr[:mid]\n",
    "    right_half = arr[mid:]\n",
    "\n",
    "    left_half = merge_sort(left_half)\n",
    "    right_half = merge_sort(right_half)\n",
    "\n",
    "    sorted_arr = merge(left_half, right_half)\n",
    "\n",
    "    return sorted_arr\n",
    "\n",
    "def merge(left, right):\n",
    "    merged = []\n",
    "    left_index = 0\n",
    "    right_index = 0\n",
    "\n",
    "    while left_index < len(left) and right_index < len(right):\n",
    "        if left[left_index] < right[right_index]:\n",
    "            merged.append(left[left_index])\n",
    "            left_index += 1\n",
    "        else:\n",
    "            merged.append(right[right_index])\n",
    "            right_index += 1\n",
    "\n",
    "    merged.extend(left[left_index:])\n",
    "    merged.extend(right[right_index:])\n",
    "\n",
    "    return merged\n",
    "\n",
    "\n",
    "my_list = [8, 97, 39048, 223, 6, 14, 38]\n",
    "sorted_list = merge_sort(my_list)\n",
    "print(\"Unsorted List\", list)\n",
    "print(\"Sorted List:\", sorted_list)\n"
   ]
  },
  {
   "cell_type": "code",
   "execution_count": 4,
   "metadata": {},
   "outputs": [
    {
     "name": "stdout",
     "output_type": "stream",
     "text": [
      "Original list:\n",
      "[8, 97, 39048, 223, 6, 14, 38]\n",
      "Sorted list using bubble sort:\n",
      "[6, 8, 14, 38, 97, 223, 39048]\n"
     ]
    }
   ],
   "source": [
    "def bubbleSort(lst, key):\n",
    "    n = len(lst) - 1\n",
    "    for i in range(n):\n",
    "        swapped = False\n",
    "        for j in range(n - i):\n",
    "            keyN = lst[j][key]\n",
    "            keyN1 = lst[j+1][key]\n",
    "            if keyN > keyN1:\n",
    "                swapped = True\n",
    "                lst[j], lst[j+1] = lst[j+1], lst[j]\n",
    "        if not swapped:\n",
    "            return\n",
    "\n",
    "if __name__ == \"__main__\":\n",
    "    my_list = [8, 97, 39048, 223, 6, 14, 38]\n",
    "    # Convert the list to a list of dictionaries with a common key\n",
    "    list_ = [{\"value\": val} for val in my_list]\n",
    "\n",
    "    print(\"Original list:\")\n",
    "    print(my_list)\n",
    "\n",
    "    bubbleSort(list_, \"value\")\n",
    "\n",
    "    sorted_list = [item[\"value\"] for item in list_]\n",
    "    print(\"Sorted list using bubble sort:\")\n",
    "    print(sorted_list)\n"
   ]
  },
  {
   "cell_type": "code",
   "execution_count": 40,
   "metadata": {},
   "outputs": [
    {
     "name": "stdout",
     "output_type": "stream",
     "text": [
      "Sorted list using merge sort:\n",
      "{'name': 'John', 'age': 63, 'city': 'Eugene'}\n",
      "{'name': 'Risa', 'age': 18, 'city': 'New York'}\n",
      "{'name': 'Ryan', 'age': 21, 'city': 'Los Angeles'}\n",
      "{'name': 'Shekar', 'age': 18, 'city': 'San Francisco'}\n"
     ]
    }
   ],
   "source": [
    "def merge_sort(arr, key):\n",
    "    if len(arr) <= 1:\n",
    "        return arr\n",
    "\n",
    "    mid = len(arr) // 2\n",
    "    left_half = arr[:mid]\n",
    "    right_half = arr[mid:]\n",
    "\n",
    "    left_half = merge_sort(left_half, key)\n",
    "    right_half = merge_sort(right_half, key)\n",
    "\n",
    "    sorted_arr = merge(left_half, right_half, key)\n",
    "\n",
    "    return sorted_arr\n",
    "\n",
    "\n",
    "def merge(left, right, key):\n",
    "    merged = []\n",
    "    left_index = 0\n",
    "    right_index = 0\n",
    "\n",
    "    while left_index < len(left) and right_index < len(right):\n",
    "        if left[left_index][key] < right[right_index][key]:\n",
    "            merged.append(left[left_index])\n",
    "            left_index += 1\n",
    "        else:\n",
    "            merged.append(right[right_index])\n",
    "            right_index += 1\n",
    "\n",
    "    merged.extend(left[left_index:])\n",
    "    merged.extend(right[right_index:])\n",
    "\n",
    "    return merged\n",
    "\n",
    "\n",
    "list_of_people = [\n",
    "    {\"name\": \"Risa\", \"age\": 18, \"city\": \"New York\"},\n",
    "    {\"name\": \"John\", \"age\": 63, \"city\": \"Eugene\"},\n",
    "    {\"name\": \"Shekar\", \"age\": 18, \"city\": \"San Francisco\"},\n",
    "    {\"name\": \"Ryan\", \"age\": 21, \"city\": \"Los Angeles\"}\n",
    "]\n",
    "\n",
    "sorted_list = merge_sort(list_of_people, \"name\")\n",
    "\n",
    "print(\"Sorted list using merge sort:\")\n",
    "for item in sorted_list:\n",
    "    print(item)\n"
   ]
  },
  {
   "attachments": {},
   "cell_type": "markdown",
   "metadata": {},
   "source": [
    "Bubble Sort:\n",
    "\n",
    "Comparisons: Bubble sort performs comparisons between adjacent elements in the list. In the worst-case scenario, where the list is in reverse order, bubble sort makes n*(n-1)/2 comparisons, where n is the number of elements in the list.\n",
    "Swaps: Bubble sort performs swaps when it finds a pair of elements that are out of order. In the worst-case scenario, bubble sort requires n*(n-1)/2 swaps.\n",
    "Time Complexity: Bubble sort has a worst-case and average-case time complexity of O(n^2), where n is the number of elements in the list. This is because in each pass, the largest unsorted element \"bubbles\" to its correct position. Bubble sort has a best-case time complexity of O(n) when the list is already sorted, as no swaps are required.\n",
    "Merge Sort:\n",
    "\n",
    "Comparisons: Merge sort divides the list into smaller sublists and compares elements from different sublists during the merging phase. The number of comparisons made by merge sort is always n*log(n), where n is the number of elements in the list.\n",
    "Swaps: Merge sort does not perform swaps directly on the original list but creates new sublists during the merging phase.\n",
    "Time Complexity: Merge sort has a guaranteed worst-case, average-case, and best-case time complexity of O(n*log(n)), where n is the number of elements in the list. This is because merge sort repeatedly divides the list into halves until individual elements are reached and then merges them in sorted order."
   ]
  }
 ],
 "metadata": {
  "kernelspec": {
   "display_name": "base",
   "language": "python",
   "name": "python3"
  },
  "language_info": {
   "codemirror_mode": {
    "name": "ipython",
    "version": 3
   },
   "file_extension": ".py",
   "mimetype": "text/x-python",
   "name": "python",
   "nbconvert_exporter": "python",
   "pygments_lexer": "ipython3",
   "version": "3.9.12"
  },
  "orig_nbformat": 4
 },
 "nbformat": 4,
 "nbformat_minor": 2
}
