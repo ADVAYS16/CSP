{
 "cells": [
  {
   "cell_type": "markdown",
   "metadata": {},
   "source": [
    "# Unit 3 Sections 16 Hacks  \n",
    "> My Hacking Hacks!\n",
    "- toc: true \n",
    "- badges: true\n",
    "- comments: true"
   ]
  },
  {
   "cell_type": "markdown",
   "metadata": {},
   "source": [
    "# Answer Table "
   ]
  },
  {
   "cell_type": "markdown",
   "metadata": {},
   "source": [
    "| Question    |    Answer   |\n",
    "| ----------- | ----------- |\n",
    "| Name(First+Last)   | Advay Shindikar     |\n",
    "| 1   | NA   |\n",
    "| 2      | NA   |\n",
    "| 3  | C- To make the simulation more accurate!  |\n",
    "| 4      | C-  Imperfections on aircraft.  |\n",
    "| 5   | C  Situation considered.    |\n",
    "| 6    | A- simulation, because it's too dangerous to have this be an experiment!       |\n",
    "| 7  | A- Simulation, heavy damage to the enviornment.      |\n",
    "| 8    | NA    |\n",
    "| 9  | B- Experiment/Calculation. No need to simulate anything, this will only be a simple calculation of the average.   |"
   ]
  },
  {
   "cell_type": "markdown",
   "metadata": {},
   "source": [
    "# Extra "
   ]
  },
  {
   "cell_type": "code",
   "execution_count": 1,
   "metadata": {},
   "outputs": [
    {
     "name": "stdout",
     "output_type": "stream",
     "text": [
      "Player 1 rolled a 1 and 5 for a sum of: 6\n",
      "Player 2 rolled a 4 and 3 for a sum of: 7\n",
      "Yay! Player 2 wins!\n"
     ]
    }
   ],
   "source": [
    "import random \n",
    "\n",
    "p1dice1 = random.randrange(1,6)\n",
    "p1dice2 = random.randrange(1,6)\n",
    "print(\"Player 1 rolled a\", p1dice1, \"and\", p1dice2, \"for a sum of:\", p1dice1+p1dice2)\n",
    "\n",
    "p2dice1 = random.randrange(1,6)\n",
    "p2dice2 = random.randrange(1,6)\n",
    "print(\"Player 2 rolled a\", p2dice1, \"and\", p2dice2, \"for a sum of:\", p2dice1+p2dice2)\n",
    "\n",
    "p1sum = p1dice1 + p1dice2\n",
    "p2sum = p2dice1 + p2dice2\n",
    "\n",
    "if p1sum > p2sum:\n",
    "    print(\"Player 1 wins!\")\n",
    "elif p1sum == p2sum:\n",
    "    print(\"Roll again! You both rolled the same sum.\")\n",
    "else: \n",
    "    print(\"Yay! Player 2 wins!\")"
   ]
  },
  {
   "cell_type": "markdown",
   "metadata": {},
   "source": [
    "Here is a simulation of a dice role. There are two players and each of them roll a dice. In this simulation we create an artificial environment in which we can compare a dice roll between two individuals."
   ]
  }
 ],
 "metadata": {
  "kernelspec": {
   "display_name": "Python 3.10.7 64-bit",
   "language": "python",
   "name": "python3"
  },
  "language_info": {
   "codemirror_mode": {
    "name": "ipython",
    "version": 3
   },
   "file_extension": ".py",
   "mimetype": "text/x-python",
   "name": "python",
   "nbconvert_exporter": "python",
   "pygments_lexer": "ipython3",
   "version": "3.10.9"
  },
  "orig_nbformat": 4,
  "vscode": {
   "interpreter": {
    "hash": "b0fa6594d8f4cbf19f97940f81e996739fb7646882a419484c72d19e05852a7e"
   }
  }
 },
 "nbformat": 4,
 "nbformat_minor": 2
}
