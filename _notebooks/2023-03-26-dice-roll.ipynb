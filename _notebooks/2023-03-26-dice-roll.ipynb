{
 "cells": [
  {
   "cell_type": "code",
   "execution_count": 1,
   "metadata": {},
   "outputs": [
    {
     "name": "stdout",
     "output_type": "stream",
     "text": [
      "The dice rolled a 2\n",
      "\n",
      "Outcome Counts:\n",
      "1 occurred 22 times\n",
      "2 occurred 16 times\n",
      "3 occurred 20 times\n",
      "4 occurred 7 times\n",
      "5 occurred 17 times\n",
      "6 occurred 18 times\n",
      "\n",
      "Two Dice Outcomes:\n",
      "2\t3\t4\t5\t6\t7\t\n",
      "3\t4\t5\t6\t7\t8\t\n",
      "4\t5\t6\t7\t8\t9\t\n",
      "5\t6\t7\t8\t9\t10\t\n",
      "6\t7\t8\t9\t10\t11\t\n",
      "7\t8\t9\t10\t11\t12\t\n"
     ]
    }
   ],
   "source": [
    "import random\n",
    "\n",
    "# Define a list of possible outcomes for the dice roll\n",
    "dice_outcomes = [1, 2, 3, 4, 5, 6]\n",
    "\n",
    "# Roll the dice and store the result in a variable\n",
    "dice_roll = random.choice(dice_outcomes)\n",
    "\n",
    "# Print the result of the dice roll\n",
    "print(\"The dice rolled a\", dice_roll)\n",
    "\n",
    "# Define a dictionary to keep track of the number of times each outcome occurs\n",
    "outcome_counts = {}\n",
    "\n",
    "# Roll the dice 100 times and count the number of times each outcome occurs\n",
    "for i in range(100):\n",
    "    roll = random.choice(dice_outcomes)\n",
    "    if roll in outcome_counts:\n",
    "        outcome_counts[roll] += 1\n",
    "    else:\n",
    "        outcome_counts[roll] = 1\n",
    "\n",
    "# Print the number of times each outcome occurred\n",
    "print(\"\\nOutcome Counts:\")\n",
    "for outcome in dice_outcomes:\n",
    "    count = outcome_counts.get(outcome, 0)\n",
    "    print(outcome, \"occurred\", count, \"times\")\n",
    "\n",
    "# Define a 2D array to represent the outcomes of rolling two dice\n",
    "dice_outcomes_2d = [[i + j + 2 for j in range(6)] for i in range(6)]\n",
    "\n",
    "# Print the outcomes of rolling two dice as a 2D array\n",
    "print(\"\\nTwo Dice Outcomes:\")\n",
    "for row in dice_outcomes_2d:\n",
    "    for outcome in row:\n",
    "        print(outcome, end=\"\\t\")\n",
    "    print()\n"
   ]
  },
  {
   "attachments": {},
   "cell_type": "markdown",
   "metadata": {},
   "source": [
    "The code above first defines a list of possible outcomes for a dice roll (numbers 1 through 6), and then uses the random.choice() function to simulate rolling the dice and storing the result in a variable.\n",
    "\n",
    "Next, the code defines a dictionary to keep track of the number of times each outcome occurs when rolling the dice 100 times. It uses a for loop with the range() function to roll the dice 100 times and count the number of times each outcome occurs. If an outcome has already occurred, the code increments its count in the dictionary. Otherwise, it adds the outcome to the dictionary with a count of 1.\n",
    "\n",
    "Finally, the code defines a 2D array to represent the outcomes of rolling two dice. It uses a list comprehension to create a 6x6 array where each element represents the sum of the two dice outcomes. The code then uses nested for loops to print the 2D array in a grid-like format.\n",
    "\n",
    "Overall, this code simulation provides a simple and visual way to understand the basic concepts of Lists, Dictionaries, 2D Arrays, and Iteration in Python through the example of rolling dice."
   ]
  }
 ],
 "metadata": {
  "kernelspec": {
   "display_name": "base",
   "language": "python",
   "name": "python3"
  },
  "language_info": {
   "codemirror_mode": {
    "name": "ipython",
    "version": 3
   },
   "file_extension": ".py",
   "mimetype": "text/x-python",
   "name": "python",
   "nbconvert_exporter": "python",
   "pygments_lexer": "ipython3",
   "version": "3.9.12"
  },
  "orig_nbformat": 4
 },
 "nbformat": 4,
 "nbformat_minor": 2
}
