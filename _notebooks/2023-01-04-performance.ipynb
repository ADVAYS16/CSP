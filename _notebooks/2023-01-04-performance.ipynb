{
 "cells": [
  {
   "attachments": {},
   "cell_type": "markdown",
   "metadata": {},
   "source": [
    "# Grading AP submissions: Performance Task\n",
    "- title: Performance Task Grading\n",
    "- categories: [Week]"
   ]
  },
  {
   "attachments": {},
   "cell_type": "markdown",
   "metadata": {},
   "source": [
    "## Submission 1\n",
    "\n",
    "| Row # | Row Name | Score | Comments |\n",
    "| :---: | :---: | :---: | :---:|\n",
    "| Row 1 | Program Purpose and Function | 0/1 | Does not include the purpose of the program. |\n",
    "| Row 2 | Data Abstraction | 1/1 | All criteria is met, includes information regarding how the data is stored. |\n",
    "| Row 3 | Managing Complexity | 0/1 | The code does not manage complexity; For example, the \"int\" variables are not needed. |\n",
    "| Row 4 | Procedural Abstraction | 1/1 | All criteria is met, includes and properly describes procedure. |\n",
    "| Row 5 | Algorithm Implementation | 1/1 | All criteria is met, sequencing/selection/iteration is properly shown and explained.|\n",
    "| Row 6 | Testing | 1/1 | All criteria is met, describes the conditions and identifies the results properly.|"
   ]
  },
  {
   "attachments": {},
   "cell_type": "markdown",
   "metadata": {},
   "source": [
    "## Submission 2  \n",
    "\n",
    "| Row # | Row Name | Score | Comments |\n",
    "| :---: | :---: | :---: | :---: |\n",
    "| Row 1 | Program Purpose and Function | 1/1 | All criteria is met, includes input, output, purpose and demonstrates functionality. |\n",
    "| Row 2 | Data Abstraction | 1/1 | All criteria is met, explains the use of lists and the response identifies what is stored.|\n",
    "| Row 3 | Managing Complexity | 1/1 | All criteria is met, complexity is managed and response explains work.|\n",
    "| Row 4 | Procedural Abstraction | 1/1 | All criteria is met, includes and explains the functionality of procedure. |\n",
    "| Row 5 | Algorithm Implementation | 1/1 | All criteria is met, sequencing/selection/iteration, are properly used and explained in detail. |\n",
    "| Row 6 | Testing | 1/1 | All criteria is met, describes two unique procedure and explains their functionality and use.|"
   ]
  },
  {
   "attachments": {},
   "cell_type": "markdown",
   "metadata": {},
   "source": [
    "Discrepancy: None\n",
    "\n",
    "I scored both of the submissions in the same manner done by college board."
   ]
  }
 ],
 "metadata": {
  "kernelspec": {
   "display_name": "base",
   "language": "python",
   "name": "python3"
  },
  "language_info": {
   "codemirror_mode": {
    "name": "ipython",
    "version": 3
   },
   "file_extension": ".py",
   "mimetype": "text/x-python",
   "name": "python",
   "nbconvert_exporter": "python",
   "pygments_lexer": "ipython3",
   "version": "3.9.12 (main, Apr  5 2022, 06:56:58) \n[GCC 7.5.0]"
  },
  "orig_nbformat": 4,
  "vscode": {
   "interpreter": {
    "hash": "55c5e13967205c3728e2b94d0ab43c33ccb2c0232d17d89ff06ed0b2c18999ab"
   }
  }
 },
 "nbformat": 4,
 "nbformat_minor": 2
}
