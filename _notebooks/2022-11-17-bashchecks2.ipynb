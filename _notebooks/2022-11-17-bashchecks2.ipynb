{
 "cells": [
  {
   "cell_type": "markdown",
   "metadata": {},
   "source": [
    "# Bash Checks 2\n",
    "> Bash Notebook Check\n",
    "- toc:true\n",
    "- badges: true\n",
    "- comments: true\n",
    "- categories: [Posts]\n",
    "- title: Bash Checks 2"
   ]
  },
  {
   "cell_type": "code",
   "execution_count": 2,
   "metadata": {
    "vscode": {
     "languageId": "shellscript"
    }
   },
   "outputs": [
    {
     "name": "stdout",
     "output_type": "stream",
     "text": [
      "Using conditional statement to create a project directory and project\n",
      "Directory /Users/advayshindikar/vscode exists.\n",
      "Directory /Users/advayshindikar/vscode/APCSP exists.\n"
     ]
    }
   ],
   "source": [
    "echo \"Using conditional statement to create a project directory and project\"\n",
    "\n",
    "# Variable section\n",
    "export project_dir=$HOME/vscode  # change vscode to different name to test git clone\n",
    "export project=$project_dir/APCSP  # change APCSP to name of project from git clone\n",
    "export project_repo=\"https://github.com/nighthawkcoders/APCSP.git\"  # change to project of choice\n",
    "\n",
    "cd ~    # start in home directory\n",
    "\n",
    "# Conditional block to make a project directory\n",
    "if [ ! -d $project_dir ]\n",
    "then \n",
    "    echo \"Directory $project_dir does not exists... makinng directory $project_dir\"\n",
    "    mkdir -p $project_dir\n",
    "fi\n",
    "echo \"Directory $project_dir exists.\" \n",
    "\n",
    "# Conditional block to git clone a project from project_repo\n",
    "if [ ! -d $project ]\n",
    "then\n",
    "    echo \"Directory $project does not exists... cloning $project_repo\"\n",
    "    cd $project_dir\n",
    "    git clone $project_repo\n",
    "    cd ~\n",
    "fi\n",
    "echo \"Directory $project exists.\" "
   ]
  },
  {
   "cell_type": "code",
   "execution_count": 3,
   "metadata": {
    "vscode": {
     "languageId": "shellscript"
    }
   },
   "outputs": [
    {
     "name": "stdout",
     "output_type": "stream",
     "text": [
      "Navigate to project, then navigate to area wwhere files were cloned\n",
      "/Users/advayshindikar/vscode/APCSP\n",
      "\n",
      "list top level or root of files with project pulled from github\n",
      "Gemfile\t\t\t_includes\t\t_word\n",
      "LICENSE\t\t\t_layouts\t\tassets\n",
      "Makefile\t\t_notebooks\t\tdocker-compose.yml\n",
      "README.md\t\t_pages\t\t\timages\n",
      "_action_files\t\t_plugins\t\tindex.html\n",
      "_config.yml\t\t_posts\t\t\tpython\n",
      "_fastpages_docs\t\t_sass\n",
      "\n",
      "list again with hidden files pulled from github\n",
      ".\t\t\tMakefile\t\t_posts\n",
      "..\t\t\tREADME.md\t\t_sass\n",
      ".devcontainer.json\t_action_files\t\t_word\n",
      ".git\t\t\t_config.yml\t\tassets\n",
      ".gitattributes\t\t_fastpages_docs\t\tdocker-compose.yml\n",
      ".github\t\t\t_includes\t\timages\n",
      ".gitignore\t\t_layouts\t\tindex.html\n",
      ".vscode\t\t\t_notebooks\t\tpython\n",
      "Gemfile\t\t\t_pages\n",
      "LICENSE\t\t\t_plugins\n",
      "\n",
      "list all files in long format\n",
      "total 96\n",
      "drwxr-xr-x  28 advayshindikar  staff    896 Oct  6 15:44 .\n",
      "drwxr-xr-x   8 advayshindikar  staff    256 Nov 15 13:00 ..\n",
      "-rw-r--r--   1 advayshindikar  staff    420 Oct  6 15:44 .devcontainer.json\n",
      "drwxr-xr-x  14 advayshindikar  staff    448 Nov  1 21:06 .git\n",
      "-rw-r--r--   1 advayshindikar  staff     84 Oct  6 15:44 .gitattributes\n",
      "drwxr-xr-x   4 advayshindikar  staff    128 Oct  6 15:44 .github\n",
      "-rw-r--r--   1 advayshindikar  staff   1503 Oct  6 15:44 .gitignore\n",
      "drwxr-xr-x   3 advayshindikar  staff     96 Oct  6 15:44 .vscode\n",
      "-rwxr-xr-x   1 advayshindikar  staff   1304 Oct  6 15:44 Gemfile\n",
      "-rw-r--r--   1 advayshindikar  staff  11351 Oct  6 15:44 LICENSE\n",
      "-rwxr-xr-x   1 advayshindikar  staff   1422 Oct  6 15:44 Makefile\n",
      "-rwxr-xr-x   1 advayshindikar  staff   3614 Oct  6 15:44 README.md\n",
      "drwxr-xr-x  18 advayshindikar  staff    576 Oct  6 15:44 _action_files\n",
      "-rw-r--r--   1 advayshindikar  staff   3717 Oct  6 15:44 _config.yml\n",
      "drwxr-xr-x  24 advayshindikar  staff    768 Oct  6 15:44 _fastpages_docs\n",
      "drwxr-xr-x  29 advayshindikar  staff    928 Oct  6 15:44 _includes\n",
      "drwxr-xr-x   6 advayshindikar  staff    192 Oct  6 15:44 _layouts\n",
      "drwxr-xr-x  17 advayshindikar  staff    544 Nov  3 22:15 _notebooks\n",
      "drwxr-xr-x   9 advayshindikar  staff    288 Oct  6 15:44 _pages\n",
      "drwxr-xr-x   4 advayshindikar  staff    128 Oct  6 15:44 _plugins\n",
      "drwxr-xr-x  46 advayshindikar  staff   1472 Oct  6 15:44 _posts\n",
      "drwxr-xr-x   3 advayshindikar  staff     96 Oct  6 15:44 _sass\n",
      "drwxr-xr-x   3 advayshindikar  staff     96 Oct  6 15:44 _word\n",
      "drwxr-xr-x   4 advayshindikar  staff    128 Oct  6 15:44 assets\n",
      "-rwxr-xr-x   1 advayshindikar  staff   1136 Oct  6 15:44 docker-compose.yml\n",
      "drwxr-xr-x  88 advayshindikar  staff   2816 Oct  6 15:44 images\n",
      "-rw-r--r--   1 advayshindikar  staff   1059 Oct  6 15:44 index.html\n",
      "drwxr-xr-x   3 advayshindikar  staff     96 Oct  6 15:44 python\n"
     ]
    }
   ],
   "source": [
    "echo \"Navigate to project, then navigate to area wwhere files were cloned\"\n",
    "cd $project\n",
    "pwd\n",
    "\n",
    "echo \"\"\n",
    "echo \"list top level or root of files with project pulled from github\"\n",
    "ls\n",
    "\n",
    "echo \"\"\n",
    "echo \"list again with hidden files pulled from github\"\n",
    "ls -a   # hidden files flag, many shell commands have flags\n",
    "\n",
    "echo \"\"\n",
    "echo \"list all files in long format\"\n",
    "ls -al   # all files and long listing"
   ]
  },
  {
   "cell_type": "code",
   "execution_count": 4,
   "metadata": {
    "vscode": {
     "languageId": "shellscript"
    }
   },
   "outputs": [
    {
     "name": "stdout",
     "output_type": "stream",
     "text": [
      "Look for posts\n",
      "/Users/advayshindikar/vscode/APCSP/_posts\n",
      "total 672\n",
      "-rw-r--r--  1 advayshindikar  staff   7305 Oct  6 15:44 2022-06-01-computer_systems_networks.md\n",
      "-rw-r--r--  1 advayshindikar  staff   5557 Oct  6 15:44 2022-06-01-legal_ethics.md\n",
      "-rw-r--r--  1 advayshindikar  staff   5858 Oct  6 15:44 2022-07-07-PBL-binary.md\n",
      "-rw-r--r--  1 advayshindikar  staff   3082 Oct  6 15:44 2022-07-08-PBL-grade_calc.md\n",
      "-rw-r--r--  1 advayshindikar  staff   3695 Oct  6 15:44 2022-07-08-PBL-graph.md\n",
      "-rw-r--r--  1 advayshindikar  staff   5726 Oct  6 15:44 2022-07-08-PBL-life.md\n",
      "-rw-r--r--  1 advayshindikar  staff  14384 Oct  6 15:44 2022-07-08-PBL-snake.md\n",
      "-rw-r--r--  1 advayshindikar  staff   2593 Oct  6 15:44 2022-07-10-PBL-database.md\n",
      "-rw-r--r--  1 advayshindikar  staff   5660 Oct  6 15:44 2022-07-10-PBL-jokes.md\n",
      "-rw-r--r--  1 advayshindikar  staff   4043 Oct  6 15:44 2022-07-10-PBL-rapidapi.md\n",
      "-rw-r--r--  1 advayshindikar  staff   6682 Oct  6 15:44 2022-07-19-PBL-calculator.md\n",
      "-rw-r--r--  1 advayshindikar  staff  23316 Oct  6 15:44 2022-07-25-CSP-workshop.md\n",
      "-rw-r--r--  1 advayshindikar  staff   4371 Oct  6 15:44 2022-08-15-AP-pseudo_code.md\n",
      "-rw-r--r--  1 advayshindikar  staff   2348 Oct  6 15:44 2022-08-15-HM-student_score_history.md\n",
      "-rw-r--r--  1 advayshindikar  staff  15419 Oct  6 15:44 2022-08-15-PBL-tools.md\n",
      "-rw-r--r--  1 advayshindikar  staff   8050 Oct  6 15:44 2022-08-15-PT-tool_setup.md\n",
      "-rw-r--r--  1 advayshindikar  staff   5586 Oct  6 15:44 2022-08-15-TT101-vscode-wsl.md\n",
      "-rw-r--r--  1 advayshindikar  staff   5186 Oct  6 15:44 2022-08-22-PBL-fastpages.md\n",
      "-rw-r--r--  1 advayshindikar  staff   2237 Oct  6 15:44 2022-08-22-PT-intro_python.md\n",
      "-rw-r--r--  1 advayshindikar  staff   6500 Oct  6 15:44 2022-08-29-PBL-html_fragments.md\n",
      "-rw-r--r--  1 advayshindikar  staff   2667 Oct  6 15:44 2022-08-29-PT-data_abstraction.md\n",
      "-rw-r--r--  1 advayshindikar  staff   2332 Oct  6 15:44 2022-08-29-PT120-data_abstract.md\n",
      "-rw-r--r--  1 advayshindikar  staff   9050 Oct  6 15:44 2022-09-05-AP-create_performance_task.md\n",
      "-rw-r--r--  1 advayshindikar  staff   8013 Oct  6 15:44 2022-09-05-HM-create-task-bria.md\n",
      "-rw-r--r--  1 advayshindikar  staff   3905 Oct  6 15:44 2022-09-05-PBL-applab.md\n",
      "-rw-r--r--  1 advayshindikar  staff   3165 Oct  6 15:44 2022-09-05-PT-creative_dev.md\n",
      "-rw-r--r--  1 advayshindikar  staff   8168 Oct  6 15:44 2022-09-05-PT-creative_development.md\n",
      "-rw-r--r--  1 advayshindikar  staff   1587 Oct  6 15:44 2022-09-12-AP-colaboration.md\n",
      "-rw-r--r--  1 advayshindikar  staff   3205 Oct  6 15:44 2022-09-12-HM-focus.md\n",
      "-rw-r--r--  1 advayshindikar  staff   5422 Oct  6 15:44 2022-09-12-PBL-fastpages-docker.md\n",
      "-rw-r--r--  1 advayshindikar  staff   3580 Oct  6 15:44 2022-09-12-PBL-python_flask.md\n",
      "-rw-r--r--  1 advayshindikar  staff   2658 Oct  6 15:44 2022-09-12-PT-python_server.md\n",
      "-rw-r--r--  1 advayshindikar  staff   1124 Oct  6 15:44 2022-09-19-AP-program_purpose.md\n",
      "-rw-r--r--  1 advayshindikar  staff  10871 Oct  6 15:44 2022-09-19-HM-agile.md\n",
      "-rw-r--r--  1 advayshindikar  staff   2467 Oct  6 15:44 2022-09-19-PT-frontend_starters.md\n",
      "-rw-r--r--  1 advayshindikar  staff   6048 Oct  6 15:44 2022-09-26-AP-program_design.md\n",
      "-rw-r--r--  1 advayshindikar  staff   4890 Oct  6 15:44 2022-09-26-HM-github-sociology.md\n",
      "-rw-r--r--  1 advayshindikar  staff  35454 Oct  6 15:44 2022-09-26-PBL-deploy.md\n",
      "-rw-r--r--  1 advayshindikar  staff   1160 Oct  6 15:44 2022-09-26-PT-deployment.md\n",
      "-rw-r--r--  1 advayshindikar  staff   3053 Oct  6 15:44 2022-09-27-VPNs.md\n",
      "-rw-r--r--  1 advayshindikar  staff   1209 Oct  6 15:44 2022-10-03-PT-api.md\n",
      "-rw-r--r--  1 advayshindikar  staff   4757 Oct  6 15:44 2022-10-10-AP-binary_logic.md\n",
      "-rw-r--r--  1 advayshindikar  staff    720 Oct  6 15:44 README.md\n",
      "-rw-r--r--  1 advayshindikar  staff    376 Oct  6 15:44 sample.md\n"
     ]
    }
   ],
   "source": [
    "echo \"Look for posts\"\n",
    "export posts=$project/_posts  # _posts inside project\n",
    "cd $posts  # this should exist per fastpages\n",
    "pwd  # present working directory\n",
    "ls -l  # list posts"
   ]
  },
  {
   "cell_type": "code",
   "execution_count": 5,
   "metadata": {
    "vscode": {
     "languageId": "shellscript"
    }
   },
   "outputs": [
    {
     "name": "stdout",
     "output_type": "stream",
     "text": [
      "Look for posts\n",
      "/Users/advayshindikar/vscode/APCSP/_posts\n",
      "total 672\n",
      "-rw-r--r--  1 advayshindikar  staff   7305 Oct  6 15:44 2022-06-01-computer_systems_networks.md\n",
      "-rw-r--r--  1 advayshindikar  staff   5557 Oct  6 15:44 2022-06-01-legal_ethics.md\n",
      "-rw-r--r--  1 advayshindikar  staff   5858 Oct  6 15:44 2022-07-07-PBL-binary.md\n",
      "-rw-r--r--  1 advayshindikar  staff   3082 Oct  6 15:44 2022-07-08-PBL-grade_calc.md\n",
      "-rw-r--r--  1 advayshindikar  staff   3695 Oct  6 15:44 2022-07-08-PBL-graph.md\n",
      "-rw-r--r--  1 advayshindikar  staff   5726 Oct  6 15:44 2022-07-08-PBL-life.md\n",
      "-rw-r--r--  1 advayshindikar  staff  14384 Oct  6 15:44 2022-07-08-PBL-snake.md\n",
      "-rw-r--r--  1 advayshindikar  staff   2593 Oct  6 15:44 2022-07-10-PBL-database.md\n",
      "-rw-r--r--  1 advayshindikar  staff   5660 Oct  6 15:44 2022-07-10-PBL-jokes.md\n",
      "-rw-r--r--  1 advayshindikar  staff   4043 Oct  6 15:44 2022-07-10-PBL-rapidapi.md\n",
      "-rw-r--r--  1 advayshindikar  staff   6682 Oct  6 15:44 2022-07-19-PBL-calculator.md\n",
      "-rw-r--r--  1 advayshindikar  staff  23316 Oct  6 15:44 2022-07-25-CSP-workshop.md\n",
      "-rw-r--r--  1 advayshindikar  staff   4371 Oct  6 15:44 2022-08-15-AP-pseudo_code.md\n",
      "-rw-r--r--  1 advayshindikar  staff   2348 Oct  6 15:44 2022-08-15-HM-student_score_history.md\n",
      "-rw-r--r--  1 advayshindikar  staff  15419 Oct  6 15:44 2022-08-15-PBL-tools.md\n",
      "-rw-r--r--  1 advayshindikar  staff   8050 Oct  6 15:44 2022-08-15-PT-tool_setup.md\n",
      "-rw-r--r--  1 advayshindikar  staff   5586 Oct  6 15:44 2022-08-15-TT101-vscode-wsl.md\n",
      "-rw-r--r--  1 advayshindikar  staff   5186 Oct  6 15:44 2022-08-22-PBL-fastpages.md\n",
      "-rw-r--r--  1 advayshindikar  staff   2237 Oct  6 15:44 2022-08-22-PT-intro_python.md\n",
      "-rw-r--r--  1 advayshindikar  staff   6500 Oct  6 15:44 2022-08-29-PBL-html_fragments.md\n",
      "-rw-r--r--  1 advayshindikar  staff   2667 Oct  6 15:44 2022-08-29-PT-data_abstraction.md\n",
      "-rw-r--r--  1 advayshindikar  staff   2332 Oct  6 15:44 2022-08-29-PT120-data_abstract.md\n",
      "-rw-r--r--  1 advayshindikar  staff   9050 Oct  6 15:44 2022-09-05-AP-create_performance_task.md\n",
      "-rw-r--r--  1 advayshindikar  staff   8013 Oct  6 15:44 2022-09-05-HM-create-task-bria.md\n",
      "-rw-r--r--  1 advayshindikar  staff   3905 Oct  6 15:44 2022-09-05-PBL-applab.md\n",
      "-rw-r--r--  1 advayshindikar  staff   3165 Oct  6 15:44 2022-09-05-PT-creative_dev.md\n",
      "-rw-r--r--  1 advayshindikar  staff   8168 Oct  6 15:44 2022-09-05-PT-creative_development.md\n",
      "-rw-r--r--  1 advayshindikar  staff   1587 Oct  6 15:44 2022-09-12-AP-colaboration.md\n",
      "-rw-r--r--  1 advayshindikar  staff   3205 Oct  6 15:44 2022-09-12-HM-focus.md\n",
      "-rw-r--r--  1 advayshindikar  staff   5422 Oct  6 15:44 2022-09-12-PBL-fastpages-docker.md\n",
      "-rw-r--r--  1 advayshindikar  staff   3580 Oct  6 15:44 2022-09-12-PBL-python_flask.md\n",
      "-rw-r--r--  1 advayshindikar  staff   2658 Oct  6 15:44 2022-09-12-PT-python_server.md\n",
      "-rw-r--r--  1 advayshindikar  staff   1124 Oct  6 15:44 2022-09-19-AP-program_purpose.md\n",
      "-rw-r--r--  1 advayshindikar  staff  10871 Oct  6 15:44 2022-09-19-HM-agile.md\n",
      "-rw-r--r--  1 advayshindikar  staff   2467 Oct  6 15:44 2022-09-19-PT-frontend_starters.md\n",
      "-rw-r--r--  1 advayshindikar  staff   6048 Oct  6 15:44 2022-09-26-AP-program_design.md\n",
      "-rw-r--r--  1 advayshindikar  staff   4890 Oct  6 15:44 2022-09-26-HM-github-sociology.md\n",
      "-rw-r--r--  1 advayshindikar  staff  35454 Oct  6 15:44 2022-09-26-PBL-deploy.md\n",
      "-rw-r--r--  1 advayshindikar  staff   1160 Oct  6 15:44 2022-09-26-PT-deployment.md\n",
      "-rw-r--r--  1 advayshindikar  staff   3053 Oct  6 15:44 2022-09-27-VPNs.md\n",
      "-rw-r--r--  1 advayshindikar  staff   1209 Oct  6 15:44 2022-10-03-PT-api.md\n",
      "-rw-r--r--  1 advayshindikar  staff   4757 Oct  6 15:44 2022-10-10-AP-binary_logic.md\n",
      "-rw-r--r--  1 advayshindikar  staff    720 Oct  6 15:44 README.md\n",
      "-rw-r--r--  1 advayshindikar  staff    376 Oct  6 15:44 sample.md\n"
     ]
    }
   ],
   "source": [
    "echo \"Look for posts\"\n",
    "export posts=$project/_posts  # _posts inside project\n",
    "cd $posts  # this should exist per fastpages\n",
    "pwd  # present working directory\n",
    "ls -l  # list posts"
   ]
  },
  {
   "cell_type": "code",
   "execution_count": 6,
   "metadata": {
    "vscode": {
     "languageId": "shellscript"
    }
   },
   "outputs": [
    {
     "name": "stdout",
     "output_type": "stream",
     "text": [
      "Look for notebooks\n",
      "/Users/advayshindikar/vscode/APCSP/_notebooks\n",
      "total 440\n",
      "-rw-r--r--  1 advayshindikar  staff   8546 Oct  6 15:44 2022-07-21-PBL-neo4j_intro.ipynb\n",
      "-rw-r--r--  1 advayshindikar  staff  11755 Oct  6 15:44 2022-08-22-AP-python_hello.ipynb\n",
      "-rw-r--r--  1 advayshindikar  staff  19997 Oct  6 15:44 2022-08-22-HM-anthony_and_sahil.ipynb\n",
      "-rw-r--r--  1 advayshindikar  staff  12703 Oct  6 15:44 2022-08-22-PBL-bash_tutorial.ipynb\n",
      "-rw-r--r--  1 advayshindikar  staff  35713 Oct  6 15:44 2022-08-25-tool_check.ipynb\n",
      "-rw-r--r--  1 advayshindikar  staff  13350 Oct  6 15:44 2022-08-29-AP-python_lists.ipynb\n",
      "-rw-r--r--  1 advayshindikar  staff  16488 Oct  6 15:44 2022-09-19-PBL-javascript_tutorial.ipynb\n",
      "-rw-r--r--  1 advayshindikar  staff   8476 Oct  6 15:44 2022-10-03-AP-error_testing.ipynb\n",
      "-rw-r--r--  1 advayshindikar  staff  12591 Oct  6 15:44 2022-10-03-PBL-python_rapidapi.ipynb\n",
      "-rw-r--r--  1 advayshindikar  staff  25075 Oct  6 15:44 2022-10-17-AP-2d-iteration.ipynb\n",
      "-rw-r--r--  1 advayshindikar  staff  16038 Oct 20 15:12 2022-10-17-PBL-webapi_tutorial.ipynb\n",
      "-rw-r--r--  1 advayshindikar  staff   9539 Oct  6 15:44 2022-10-24-AP-logic-and-algos.ipynb\n",
      "-rw-r--r--  1 advayshindikar  staff    771 Oct  6 15:44 README.md\n",
      "drwxr-xr-x  4 advayshindikar  staff    128 Oct  6 15:44 images\n"
     ]
    }
   ],
   "source": [
    "echo \"Look for notebooks\"\n",
    "export notebooks=$project/_notebooks  # _notebooks is inside project\n",
    "cd $notebooks   # this should exist per fastpages\n",
    "pwd  # present working directory\n",
    "ls -l  # list notebooks"
   ]
  },
  {
   "cell_type": "code",
   "execution_count": 7,
   "metadata": {
    "vscode": {
     "languageId": "shellscript"
    }
   },
   "outputs": [
    {
     "name": "stdout",
     "output_type": "stream",
     "text": [
      "Look for images in notebooks, print working directory, list files\n",
      "/Users/advayshindikar/vscode/APCSP/_notebooks/images\n",
      "total 216\n",
      "-rw-r--r--  1 advayshindikar  staff  101617 Oct  6 15:44 kernels.png\n",
      "-rw-r--r--  1 advayshindikar  staff    5520 Oct  6 15:44 truth.png\n"
     ]
    }
   ],
   "source": [
    "echo \"Look for images in notebooks, print working directory, list files\"\n",
    "cd $notebooks/images  # this should exist per fastpages\n",
    "pwd\n",
    "ls -l"
   ]
  },
  {
   "cell_type": "code",
   "execution_count": 8,
   "metadata": {
    "vscode": {
     "languageId": "shellscript"
    }
   },
   "outputs": [
    {
     "name": "stdout",
     "output_type": "stream",
     "text": [
      "Navigate to project, then navigate to area wwhere files were cloned\n",
      "show the contents of README.md\n",
      "\n",
      "[//]: # (This template replaces README.md when someone creates a new repo with the fastpages template.)\n",
      "\n",
      "![](https://github.com/nighthawkcoders/APCSP/workflows/CI/badge.svg) \n",
      "![](https://github.com/nighthawkcoders/APCSP/workflows/GH-Pages%20Status/badge.svg) \n",
      "[![](https://img.shields.io/static/v1?label=fastai&message=fastpages&color=57aeac&labelColor=black&style=flat&logo=data:image/png;base64,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)](https://github.com/fastai/fastpages)\n",
      "\n",
      "https://nighthawkcoders.github.io/APCSP/\n",
      "\n",
      "# My Blog\n",
      "\n",
      "\n",
      "_powered by [fastpages](https://github.com/fastai/fastpages)_\n",
      "\n",
      "\n",
      "## What To Do Next?\n",
      "\n",
      "Great!  You have setup your repo.  Now its time to start writing content.  Some helpful links:\n",
      "\n",
      "- [Writing Blogs With Jupyter](https://github.com/fastai/fastpages#writing-blog-posts-with-jupyter)\n",
      "\n",
      "- [Writing Blogs With Markdown](https://github.com/fastai/fastpages#writing-blog-posts-with-markdown)\n",
      "\n",
      "- [Writing Blog Posts With Word](https://github.com/fastai/fastpages#writing-blog-posts-with-microsoft-word)\n",
      "\n",
      "- [(Optional) Preview Your Blog Locally](_fastpages_docs/DEVELOPMENT.md)\n",
      "\n",
      "Note: you may want to remove example blog posts from the `_posts`,  `_notebooks` or `_word` folders (but leave them empty, don't delete these folders) if you don't want these blog posts to appear on your site.\n",
      "\n",
      "Please use the [nbdev & blogging channel](https://forums.fast.ai/c/fastai-users/nbdev/48) in the fastai forums for any questions or feature requests.\n",
      "\n",
      "end of README.md\n"
     ]
    }
   ],
   "source": [
    "echo \"Navigate to project, then navigate to area wwhere files were cloned\"\n",
    "\n",
    "cd $project\n",
    "echo \"show the contents of README.md\"\n",
    "echo \"\"\n",
    "\n",
    "cat README.md  # show contents of file, in this case markdown\n",
    "echo \"\"\n",
    "echo \"end of README.md\""
   ]
  },
  {
   "cell_type": "code",
   "execution_count": null,
   "metadata": {
    "vscode": {
     "languageId": "shellscript"
    }
   },
   "outputs": [],
   "source": [
    "cd $project\n",
    "\n",
    "echo \"\"\n",
    "echo \"show the secrets of .git\"\n",
    "cd .git\n",
    "ls -l\n",
    "\n",
    "echo \"\"\n",
    "echo \"look at config file\"\n",
    "cat config"
   ]
  },
  {
   "cell_type": "code",
   "execution_count": 9,
   "metadata": {
    "vscode": {
     "languageId": "shellscript"
    }
   },
   "outputs": [
    {
     "name": "stdout",
     "output_type": "stream",
     "text": [
      "\n",
      "File listing and status\n",
      "-rw-r--r--  1 advayshindikar  wheel  809 Nov 17 23:04 sample.md\n",
      "      15     132     809 sample.md\n",
      "bash: mdless: command not found\n"
     ]
    }
   ],
   "source": [
    "cd /tmp\n",
    "\n",
    "file=\"sample.md\"\n",
    "if [ -f \"$file\" ]; then\n",
    "    rm $file\n",
    "fi\n",
    "\n",
    "tee -a $file >/dev/null <<EOF\n",
    "# Show Generated Markdown\n",
    "This introductory paragraph and this line and the title above are generated using tee with the standard input (<<) redirection operator.\n",
    "- This bulleted element is still part of the tee body.\n",
    "EOF\n",
    "\n",
    "echo \"- This bulleted element and lines below are generated using echo with standard output (>>) redirection operator.\" >> $file\n",
    "echo \"- The list definition, as is, is using space to seperate lines.  Thus the use of commas and hyphens in output.\" >> $file\n",
    "actions=(\"ls,list-directory\" \"cd,change-directory\" \"pwd,present-working-directory\" \"if-then-fi,test-condition\" \"env,bash-environment-variables\" \"cat,view-file-contents\" \"tee,write-to-output\" \"echo,display-content-of-string\" \"echo_text_>\\$file,write-content-to-file\" \"echo_text_>>\\$file,append-content-to-file\")\n",
    "for action in ${actions[@]}; do  # for loop is very similar to other language, though [@], semi-colon, do are new\n",
    "  action=${action//-/ }  # convert dash to space\n",
    "  action=${action//,/: } # convert comma to colon\n",
    "  action=${action//_text_/ \\\"sample text\\\" } # convert _text_ to sample text, note escape character \\ to avoid \"\" having meaning\n",
    "  echo \"    - ${action//-/ }\" >> $file  # echo is redirected to file with >>\n",
    "done\n",
    "\n",
    "echo \"\"\n",
    "echo \"File listing and status\"\n",
    "ls -l $file # list file\n",
    "wc $file   # show words\n",
    "mdless $file  # this requires installation, but renders markown from terminal\n",
    "\n",
    "rm $file  # clean up termporary file"
   ]
  },
  {
   "cell_type": "code",
   "execution_count": 10,
   "metadata": {
    "vscode": {
     "languageId": "shellscript"
    }
   },
   "outputs": [
    {
     "name": "stdout",
     "output_type": "stream",
     "text": [
      "Show the shell environment variables, key on left of equal value on right\n",
      "\n",
      "MANPATH=/opt/homebrew/share/man::\n",
      "SHELL=/bin/zsh\n",
      "HOMEBREW_REPOSITORY=/opt/homebrew\n",
      "TMPDIR=/var/folders/hn/zlpr6bsn4nl7cb40b_qm5fsr0000gn/T/\n",
      "LIBRARY_PATH=/usr/local/lib\n",
      "CONDA_SHLVL=1\n",
      "PYTHONUNBUFFERED=1\n",
      "CONDA_PROMPT_MODIFIER=(base) \n",
      "SDKROOT=/Library/Developer/CommandLineTools/SDKs/MacOSX.sdk\n",
      "OLDPWD=/Users/advayshindikar/vscode/APCSP\n",
      "ORIGINAL_XDG_CURRENT_DESKTOP=undefined\n",
      "MallocNanoZone=0\n",
      "PYDEVD_USE_FRAME_EVAL=NO\n",
      "PYTHONIOENCODING=utf-8\n",
      "USER=advayshindikar\n",
      "COMMAND_MODE=unix2003\n",
      "CONDA_EXE=/Users/advayshindikar/opt/anaconda3/bin/conda\n",
      "CPATH=/usr/local/include\n",
      "SSH_AUTH_SOCK=/private/tmp/com.apple.launchd.9e4grNumc7/Listeners\n",
      "__CF_USER_TEXT_ENCODING=0x1F5:0x0:0x0\n",
      "JPY_PARENT_PID=25257\n",
      "PAGER=cat\n",
      "VSCODE_AMD_ENTRYPOINT=vs/workbench/api/node/extensionHostProcess\n",
      "ELECTRON_RUN_AS_NODE=1\n",
      "JUPYTER_PATH=/Users/advayshindikar/.vscode/extensions/ms-toolsai.jupyter-2022.9.1303220346/temp/jupyter\n",
      "_CE_CONDA=\n",
      "PATH=/Users/advayshindikar/opt/anaconda3/bin:/Users/advayshindikar/opt/anaconda3/condabin:/opt/homebrew/bin:/opt/homebrew/sbin:/Library/Frameworks/Python.framework/Versions/2.7/bin:/usr/local/bin:/usr/bin:/bin:/usr/sbin:/sbin:/Applications/Visual Studio Code.app/Contents/Resources/app/bin:/Applications/Visual Studio Code.app/Contents/Resources/app/bin\n",
      "CONDA_PREFIX=/Users/advayshindikar/opt/anaconda3\n",
      "__CFBundleIdentifier=com.microsoft.VSCode\n",
      "PWD=/tmp\n",
      "notebooks=/Users/advayshindikar/vscode/APCSP/_notebooks\n",
      "VSCODE_HANDLES_UNCAUGHT_ERRORS=true\n",
      "project_repo=https://github.com/nighthawkcoders/APCSP.git\n",
      "project=/Users/advayshindikar/vscode/APCSP\n",
      "project_dir=/Users/advayshindikar/vscode\n",
      "XPC_FLAGS=0x0\n",
      "PS1=[PEXP\\[\\]ECT_PROMPT>\n",
      "_CE_M=\n",
      "XPC_SERVICE_NAME=0\n",
      "SHLVL=1\n",
      "HOME=/Users/advayshindikar\n",
      "APPLICATION_INSIGHTS_NO_DIAGNOSTIC_CHANNEL=1\n",
      "VSCODE_NLS_CONFIG={\"locale\":\"en-us\",\"availableLanguages\":{},\"_languagePackSupport\":true}\n",
      "HOMEBREW_PREFIX=/opt/homebrew\n",
      "PYTHONPATH=/Users/advayshindikar/.vscode/extensions/ms-toolsai.jupyter-2022.9.1303220346/pythonFiles:/Users/advayshindikar/.vscode/extensions/ms-toolsai.jupyter-2022.9.1303220346/pythonFiles/lib/python\n",
      "CONDA_PYTHON_EXE=/Users/advayshindikar/opt/anaconda3/bin/python\n",
      "LOGNAME=advayshindikar\n",
      "LC_CTYPE=UTF-8\n",
      "VSCODE_IPC_HOOK=/Users/advayshindikar/Library/Application Support/Code/1.73.0-main.sock\n",
      "VSCODE_CODE_CACHE_PATH=/Users/advayshindikar/Library/Application Support/Code/CachedData/8fa188b2b301d36553cbc9ce1b0a146ccb93351f\n",
      "CONDA_DEFAULT_ENV=base\n",
      "VSCODE_PID=3307\n",
      "posts=/Users/advayshindikar/vscode/APCSP/_posts\n",
      "INFOPATH=/opt/homebrew/share/info:\n",
      "HOMEBREW_CELLAR=/opt/homebrew/Cellar\n",
      "VSCODE_CWD=/\n",
      "_=/usr/bin/env\n"
     ]
    }
   ],
   "source": [
    "echo \"Show the shell environment variables, key on left of equal value on right\"\n",
    "echo \"\"\n",
    "\n",
    "env"
   ]
  }
 ],
 "metadata": {
  "kernelspec": {
   "display_name": "Bash",
   "language": "bash",
   "name": "bash"
  },
  "language_info": {
   "codemirror_mode": "shell",
   "file_extension": ".sh",
   "mimetype": "text/x-sh",
   "name": "bash"
  },
  "orig_nbformat": 4,
  "vscode": {
   "interpreter": {
    "hash": "b0fa6594d8f4cbf19f97940f81e996739fb7646882a419484c72d19e05852a7e"
   }
  }
 },
 "nbformat": 4,
 "nbformat_minor": 2
}
