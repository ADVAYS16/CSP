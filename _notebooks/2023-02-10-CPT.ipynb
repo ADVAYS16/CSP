{
 "cells": [
  {
   "attachments": {},
   "cell_type": "markdown",
   "metadata": {},
   "source": [
    "# Week CPT Prep\n",
    "- title: CPT Prep \n",
    "- categories: [Week]"
   ]
  },
  {
   "attachments": {},
   "cell_type": "markdown",
   "metadata": {},
   "source": [
    "# Our Idea: A Dating APP\n",
    "\n",
    "We aim to create a platform in which individuals are able to find romantic or platonic relationships. We aim to implement a chat box, google map integration, profile creation, profile matching, and personality testing. I will be working with all aspects of the project as one the main backend and frontend developers. I will however be spending more time focused on the map integration and the user interface. We have already created an overall theme to build off of and I would like to create a cohesive project integrating this theme. I will also be working on the google map integration. This feature will integrate and api and a database as we aim to show users in a specific area. This itself may not be enough for my Personal CPT but can be an smaller part of an overall project. \n",
    "\n",
    "Our dating app meets several of the criteria set by the College Board for a Create performance task in AP Computer Science Principles. First, it includes user login and signup features, which allow individuals to create their own unique profiles and have secure access to the app. Additionally, the app includes a personality testing feature, which assesses individuals' personalities and interests and helps to match them with compatible partners. The app also integrates a map feature, which allows users to search for potential partners within a specific geographic area. The algorithmic matching feature uses a carefully designed algorithm to match individuals based on their personality and interests, which enhances the overall user experience. Furthermore, the app includes a chat feature that allows individuals to communicate with each other within the app, making it easier for them to get to know each other. Finally, the app stores user profiles in a database, ensuring that information is securely stored and can be easily accessed by users when needed. All these features collectively demonstrate the app's ability to meet the College Board's criteria for a Create performance task in AP Computer Science Principles."
   ]
  }
 ],
 "metadata": {
  "kernelspec": {
   "display_name": "Python 3",
   "language": "python",
   "name": "python3"
  },
  "language_info": {
   "name": "python",
   "version": "3.10.9"
  },
  "orig_nbformat": 4,
  "vscode": {
   "interpreter": {
    "hash": "b0fa6594d8f4cbf19f97940f81e996739fb7646882a419484c72d19e05852a7e"
   }
  }
 },
 "nbformat": 4,
 "nbformat_minor": 2
}
