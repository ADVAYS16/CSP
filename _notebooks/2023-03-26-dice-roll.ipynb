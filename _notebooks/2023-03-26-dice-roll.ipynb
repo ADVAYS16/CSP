{
 "cells": [
  {
   "attachments": {},
   "cell_type": "markdown",
   "metadata": {},
   "source": [
    "#  Dice Roll Simulation / Card Shuffle\n",
    "- toc: true\n",
    "- image: /images/python.png\n",
    "- categories: []"
   ]
  },
  {
   "cell_type": "code",
   "execution_count": 1,
   "metadata": {},
   "outputs": [
    {
     "name": "stdout",
     "output_type": "stream",
     "text": [
      "The dice rolled a 2\n",
      "\n",
      "Outcome Counts:\n",
      "1 occurred 22 times\n",
      "2 occurred 16 times\n",
      "3 occurred 20 times\n",
      "4 occurred 7 times\n",
      "5 occurred 17 times\n",
      "6 occurred 18 times\n",
      "\n",
      "Two Dice Outcomes:\n",
      "2\t3\t4\t5\t6\t7\t\n",
      "3\t4\t5\t6\t7\t8\t\n",
      "4\t5\t6\t7\t8\t9\t\n",
      "5\t6\t7\t8\t9\t10\t\n",
      "6\t7\t8\t9\t10\t11\t\n",
      "7\t8\t9\t10\t11\t12\t\n"
     ]
    }
   ],
   "source": [
    "import random\n",
    "\n",
    "# Define a list of possible outcomes for the dice roll\n",
    "dice_outcomes = [1, 2, 3, 4, 5, 6]\n",
    "\n",
    "# Roll the dice and store the result in a variable\n",
    "dice_roll = random.choice(dice_outcomes)\n",
    "\n",
    "# Print the result of the dice roll\n",
    "print(\"The dice rolled a\", dice_roll)\n",
    "\n",
    "# Define a dictionary to keep track of the number of times each outcome occurs\n",
    "outcome_counts = {}\n",
    "\n",
    "# Roll the dice 100 times and count the number of times each outcome occurs\n",
    "for i in range(100):\n",
    "    roll = random.choice(dice_outcomes)\n",
    "    if roll in outcome_counts:\n",
    "        outcome_counts[roll] += 1\n",
    "    else:\n",
    "        outcome_counts[roll] = 1\n",
    "\n",
    "# Print the number of times each outcome occurred\n",
    "print(\"\\nOutcome Counts:\")\n",
    "for outcome in dice_outcomes:\n",
    "    count = outcome_counts.get(outcome, 0)\n",
    "    print(outcome, \"occurred\", count, \"times\")\n",
    "\n",
    "# Define a 2D array to represent the outcomes of rolling two dice\n",
    "dice_outcomes_2d = [[i + j + 2 for j in range(6)] for i in range(6)]\n",
    "\n",
    "# Print the outcomes of rolling two dice as a 2D array\n",
    "print(\"\\nTwo Dice Outcomes:\")\n",
    "for row in dice_outcomes_2d:\n",
    "    for outcome in row:\n",
    "        print(outcome, end=\"\\t\")\n",
    "    print()\n"
   ]
  },
  {
   "attachments": {},
   "cell_type": "markdown",
   "metadata": {},
   "source": [
    "The code above first defines a list of possible outcomes for a dice roll (numbers 1 through 6), and then uses the random.choice() function to simulate rolling the dice and storing the result in a variable.\n",
    "\n",
    "Next, the code defines a dictionary to keep track of the number of times each outcome occurs when rolling the dice 100 times. It uses a for loop with the range() function to roll the dice 100 times and count the number of times each outcome occurs. If an outcome has already occurred, the code increments its count in the dictionary. Otherwise, it adds the outcome to the dictionary with a count of 1.\n",
    "\n",
    "Finally, the code defines a 2D array to represent the outcomes of rolling two dice. It uses a list comprehension to create a 6x6 array where each element represents the sum of the two dice outcomes. The code then uses nested for loops to print the 2D array in a grid-like format.\n",
    "\n",
    "Overall, this code simulation provides a simple and visual way to understand the basic concepts of Lists, Dictionaries, 2D Arrays, and Iteration in Python through the example of rolling dice."
   ]
  },
  {
   "cell_type": "code",
   "execution_count": 4,
   "metadata": {},
   "outputs": [
    {
     "name": "stdout",
     "output_type": "stream",
     "text": [
      "[21, 43, 13, 51, 3, 32, 41, 5, 19, 30, 20, 9, 25, 27, 24, 50, 45, 26, 16, 7, 38, 31, 34, 11, 29, 36, 15, 2, 44, 14, 8, 4, 48, 6, 35, 22, 39, 52, 33, 17, 18, 47, 40, 23, 28, 49, 1, 10, 37, 42, 12, 46]\n"
     ]
    }
   ],
   "source": [
    "import random\n",
    "\n",
    "# Define a deck of cards\n",
    "deck = list(range(1, 53))\n",
    "\n",
    "# Shuffle the deck\n",
    "random.shuffle(deck)\n",
    "\n",
    "# Print the shuffled deck\n",
    "print(deck)\n"
   ]
  },
  {
   "cell_type": "code",
   "execution_count": 3,
   "metadata": {},
   "outputs": [
    {
     "ename": "FileNotFoundError",
     "evalue": "[Errno 2] No such file or directory: 'cards/2C.png'",
     "output_type": "error",
     "traceback": [
      "\u001b[0;31m---------------------------------------------------------------------------\u001b[0m",
      "\u001b[0;31mFileNotFoundError\u001b[0m                         Traceback (most recent call last)",
      "\u001b[1;32m/Users/advayshindikar/vscode/CSP-/_notebooks/2023-03-26-dice-roll.ipynb Cell 4\u001b[0m in \u001b[0;36m<cell line: 8>\u001b[0;34m()\u001b[0m\n\u001b[1;32m      <a href='vscode-notebook-cell:/Users/advayshindikar/vscode/CSP-/_notebooks/2023-03-26-dice-roll.ipynb#W3sZmlsZQ%3D%3D?line=4'>5</a>\u001b[0m deck \u001b[39m=\u001b[39m [\u001b[39mf\u001b[39m\u001b[39m\"\u001b[39m\u001b[39m{\u001b[39;00mr\u001b[39m}\u001b[39;00m\u001b[39m{\u001b[39;00ms\u001b[39m}\u001b[39;00m\u001b[39m\"\u001b[39m \u001b[39mfor\u001b[39;00m s \u001b[39min\u001b[39;00m [\u001b[39m'\u001b[39m\u001b[39mC\u001b[39m\u001b[39m'\u001b[39m, \u001b[39m'\u001b[39m\u001b[39mD\u001b[39m\u001b[39m'\u001b[39m, \u001b[39m'\u001b[39m\u001b[39mH\u001b[39m\u001b[39m'\u001b[39m, \u001b[39m'\u001b[39m\u001b[39mS\u001b[39m\u001b[39m'\u001b[39m] \u001b[39mfor\u001b[39;00m r \u001b[39min\u001b[39;00m [\u001b[39m'\u001b[39m\u001b[39m2\u001b[39m\u001b[39m'\u001b[39m,\u001b[39m'\u001b[39m\u001b[39m3\u001b[39m\u001b[39m'\u001b[39m,\u001b[39m'\u001b[39m\u001b[39m4\u001b[39m\u001b[39m'\u001b[39m,\u001b[39m'\u001b[39m\u001b[39m5\u001b[39m\u001b[39m'\u001b[39m,\u001b[39m'\u001b[39m\u001b[39m6\u001b[39m\u001b[39m'\u001b[39m,\u001b[39m'\u001b[39m\u001b[39m7\u001b[39m\u001b[39m'\u001b[39m,\u001b[39m'\u001b[39m\u001b[39m8\u001b[39m\u001b[39m'\u001b[39m,\u001b[39m'\u001b[39m\u001b[39m9\u001b[39m\u001b[39m'\u001b[39m,\u001b[39m'\u001b[39m\u001b[39mT\u001b[39m\u001b[39m'\u001b[39m,\u001b[39m'\u001b[39m\u001b[39mJ\u001b[39m\u001b[39m'\u001b[39m,\u001b[39m'\u001b[39m\u001b[39mQ\u001b[39m\u001b[39m'\u001b[39m,\u001b[39m'\u001b[39m\u001b[39mK\u001b[39m\u001b[39m'\u001b[39m,\u001b[39m'\u001b[39m\u001b[39mA\u001b[39m\u001b[39m'\u001b[39m]]\n\u001b[1;32m      <a href='vscode-notebook-cell:/Users/advayshindikar/vscode/CSP-/_notebooks/2023-03-26-dice-roll.ipynb#W3sZmlsZQ%3D%3D?line=6'>7</a>\u001b[0m \u001b[39m# Load the card images\u001b[39;00m\n\u001b[0;32m----> <a href='vscode-notebook-cell:/Users/advayshindikar/vscode/CSP-/_notebooks/2023-03-26-dice-roll.ipynb#W3sZmlsZQ%3D%3D?line=7'>8</a>\u001b[0m card_images \u001b[39m=\u001b[39m {card: Image\u001b[39m.\u001b[39mopen(\u001b[39mf\u001b[39m\u001b[39m\"\u001b[39m\u001b[39mcards/\u001b[39m\u001b[39m{\u001b[39;00mcard\u001b[39m}\u001b[39;00m\u001b[39m.png\u001b[39m\u001b[39m\"\u001b[39m) \u001b[39mfor\u001b[39;00m card \u001b[39min\u001b[39;00m deck}\n\u001b[1;32m     <a href='vscode-notebook-cell:/Users/advayshindikar/vscode/CSP-/_notebooks/2023-03-26-dice-roll.ipynb#W3sZmlsZQ%3D%3D?line=9'>10</a>\u001b[0m \u001b[39m# Create a list of card images in the initial deck order\u001b[39;00m\n\u001b[1;32m     <a href='vscode-notebook-cell:/Users/advayshindikar/vscode/CSP-/_notebooks/2023-03-26-dice-roll.ipynb#W3sZmlsZQ%3D%3D?line=10'>11</a>\u001b[0m initial_deck_images \u001b[39m=\u001b[39m [card_images[card] \u001b[39mfor\u001b[39;00m card \u001b[39min\u001b[39;00m deck]\n",
      "\u001b[1;32m/Users/advayshindikar/vscode/CSP-/_notebooks/2023-03-26-dice-roll.ipynb Cell 4\u001b[0m in \u001b[0;36m<dictcomp>\u001b[0;34m(.0)\u001b[0m\n\u001b[1;32m      <a href='vscode-notebook-cell:/Users/advayshindikar/vscode/CSP-/_notebooks/2023-03-26-dice-roll.ipynb#W3sZmlsZQ%3D%3D?line=4'>5</a>\u001b[0m deck \u001b[39m=\u001b[39m [\u001b[39mf\u001b[39m\u001b[39m\"\u001b[39m\u001b[39m{\u001b[39;00mr\u001b[39m}\u001b[39;00m\u001b[39m{\u001b[39;00ms\u001b[39m}\u001b[39;00m\u001b[39m\"\u001b[39m \u001b[39mfor\u001b[39;00m s \u001b[39min\u001b[39;00m [\u001b[39m'\u001b[39m\u001b[39mC\u001b[39m\u001b[39m'\u001b[39m, \u001b[39m'\u001b[39m\u001b[39mD\u001b[39m\u001b[39m'\u001b[39m, \u001b[39m'\u001b[39m\u001b[39mH\u001b[39m\u001b[39m'\u001b[39m, \u001b[39m'\u001b[39m\u001b[39mS\u001b[39m\u001b[39m'\u001b[39m] \u001b[39mfor\u001b[39;00m r \u001b[39min\u001b[39;00m [\u001b[39m'\u001b[39m\u001b[39m2\u001b[39m\u001b[39m'\u001b[39m,\u001b[39m'\u001b[39m\u001b[39m3\u001b[39m\u001b[39m'\u001b[39m,\u001b[39m'\u001b[39m\u001b[39m4\u001b[39m\u001b[39m'\u001b[39m,\u001b[39m'\u001b[39m\u001b[39m5\u001b[39m\u001b[39m'\u001b[39m,\u001b[39m'\u001b[39m\u001b[39m6\u001b[39m\u001b[39m'\u001b[39m,\u001b[39m'\u001b[39m\u001b[39m7\u001b[39m\u001b[39m'\u001b[39m,\u001b[39m'\u001b[39m\u001b[39m8\u001b[39m\u001b[39m'\u001b[39m,\u001b[39m'\u001b[39m\u001b[39m9\u001b[39m\u001b[39m'\u001b[39m,\u001b[39m'\u001b[39m\u001b[39mT\u001b[39m\u001b[39m'\u001b[39m,\u001b[39m'\u001b[39m\u001b[39mJ\u001b[39m\u001b[39m'\u001b[39m,\u001b[39m'\u001b[39m\u001b[39mQ\u001b[39m\u001b[39m'\u001b[39m,\u001b[39m'\u001b[39m\u001b[39mK\u001b[39m\u001b[39m'\u001b[39m,\u001b[39m'\u001b[39m\u001b[39mA\u001b[39m\u001b[39m'\u001b[39m]]\n\u001b[1;32m      <a href='vscode-notebook-cell:/Users/advayshindikar/vscode/CSP-/_notebooks/2023-03-26-dice-roll.ipynb#W3sZmlsZQ%3D%3D?line=6'>7</a>\u001b[0m \u001b[39m# Load the card images\u001b[39;00m\n\u001b[0;32m----> <a href='vscode-notebook-cell:/Users/advayshindikar/vscode/CSP-/_notebooks/2023-03-26-dice-roll.ipynb#W3sZmlsZQ%3D%3D?line=7'>8</a>\u001b[0m card_images \u001b[39m=\u001b[39m {card: Image\u001b[39m.\u001b[39;49mopen(\u001b[39mf\u001b[39;49m\u001b[39m\"\u001b[39;49m\u001b[39mcards/\u001b[39;49m\u001b[39m{\u001b[39;49;00mcard\u001b[39m}\u001b[39;49;00m\u001b[39m.png\u001b[39;49m\u001b[39m\"\u001b[39;49m) \u001b[39mfor\u001b[39;00m card \u001b[39min\u001b[39;00m deck}\n\u001b[1;32m     <a href='vscode-notebook-cell:/Users/advayshindikar/vscode/CSP-/_notebooks/2023-03-26-dice-roll.ipynb#W3sZmlsZQ%3D%3D?line=9'>10</a>\u001b[0m \u001b[39m# Create a list of card images in the initial deck order\u001b[39;00m\n\u001b[1;32m     <a href='vscode-notebook-cell:/Users/advayshindikar/vscode/CSP-/_notebooks/2023-03-26-dice-roll.ipynb#W3sZmlsZQ%3D%3D?line=10'>11</a>\u001b[0m initial_deck_images \u001b[39m=\u001b[39m [card_images[card] \u001b[39mfor\u001b[39;00m card \u001b[39min\u001b[39;00m deck]\n",
      "File \u001b[0;32m~/opt/anaconda3/lib/python3.9/site-packages/PIL/Image.py:2953\u001b[0m, in \u001b[0;36mopen\u001b[0;34m(fp, mode, formats)\u001b[0m\n\u001b[1;32m   2950\u001b[0m     filename \u001b[39m=\u001b[39m fp\n\u001b[1;32m   2952\u001b[0m \u001b[39mif\u001b[39;00m filename:\n\u001b[0;32m-> 2953\u001b[0m     fp \u001b[39m=\u001b[39m builtins\u001b[39m.\u001b[39;49mopen(filename, \u001b[39m\"\u001b[39;49m\u001b[39mrb\u001b[39;49m\u001b[39m\"\u001b[39;49m)\n\u001b[1;32m   2954\u001b[0m     exclusive_fp \u001b[39m=\u001b[39m \u001b[39mTrue\u001b[39;00m\n\u001b[1;32m   2956\u001b[0m \u001b[39mtry\u001b[39;00m:\n",
      "\u001b[0;31mFileNotFoundError\u001b[0m: [Errno 2] No such file or directory: 'cards/2C.png'"
     ]
    }
   ],
   "source": [
    "import random\n",
    "from PIL import Image\n",
    "\n",
    "# Define a deck of cards\n",
    "deck = [f\"{r}{s}\" for s in ['C', 'D', 'H', 'S'] for r in ['2','3','4','5','6','7','8','9','T','J','Q','K','A']]\n",
    "\n",
    "# Load the card images\n",
    "card_images = {card: Image.open(f\"cards/{card}.png\") for card in deck}\n",
    "\n",
    "# Create a list of card images in the initial deck order\n",
    "initial_deck_images = [card_images[card] for card in deck]\n",
    "\n",
    "# Display the initial deck of cards\n",
    "initial_deck_image = Image.new(\"RGB\", (900, 360))\n",
    "x, y = 0, 0\n",
    "for card_image in initial_deck_images:\n",
    "    initial_deck_image.paste(card_image, (x, y))\n",
    "    x += 75\n",
    "    if x == 900:\n",
    "        x, y = 0, y + 120\n",
    "initial_deck_image.show()\n",
    "\n",
    "# Shuffle the deck\n",
    "random.shuffle(deck)\n",
    "\n",
    "# Create a list of card images in the shuffled deck order\n",
    "shuffled_deck_images = [card_images[card] for card in deck]\n",
    "\n",
    "# Display the shuffled deck of cards\n",
    "shuffled_deck_image = Image.new(\"RGB\", (900, 360))\n",
    "x, y = 0, 0\n",
    "for card_image in shuffled_deck_images:\n",
    "    shuffled_deck_image.paste(card_image, (x, y))\n",
    "    x += 75\n",
    "    if x == 900:\n",
    "        x, y = 0, y + 120\n",
    "shuffled_deck_image.show()\n"
   ]
  }
 ],
 "metadata": {
  "kernelspec": {
   "display_name": "base",
   "language": "python",
   "name": "python3"
  },
  "language_info": {
   "codemirror_mode": {
    "name": "ipython",
    "version": 3
   },
   "file_extension": ".py",
   "mimetype": "text/x-python",
   "name": "python",
   "nbconvert_exporter": "python",
   "pygments_lexer": "ipython3",
   "version": "3.9.12"
  },
  "orig_nbformat": 4
 },
 "nbformat": 4,
 "nbformat_minor": 2
}
