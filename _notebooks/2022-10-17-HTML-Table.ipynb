{
 "cells": [
  {
   "cell_type": "code",
   "execution_count": 1,
   "metadata": {
    "vscode": {
     "languageId": "html"
    }
   },
   "outputs": [
    {
     "ename": "SyntaxError",
     "evalue": "unterminated string literal (detected at line 9) (2369267342.py, line 9)",
     "output_type": "error",
     "traceback": [
      "\u001b[0;36m  Cell \u001b[0;32mIn [1], line 9\u001b[0;36m\u001b[0m\n\u001b[0;31m    I will demonstrate usage of both HTML fragments and Javascript to make a table of the top 5 goal scorers in Champion's League History.\u001b[0m\n\u001b[0m                                                                                                                        ^\u001b[0m\n\u001b[0;31mSyntaxError\u001b[0m\u001b[0;31m:\u001b[0m unterminated string literal (detected at line 9)\n"
     ]
    }
   ],
   "source": [
    "---\n",
    "layout: post\n",
    "toc: true\n",
    "description: \"Making a table from Javascript data\"\n",
    "categories: [javascript, html]\n",
    "title: Cricket stats table\n",
    "\n",
    "---\n",
    "I will demonstrate usage of both HTML fragments and Javascript to make a table of the top 5 goal scorers in Champion's League History.\n",
    "\n",
    "<script>\n",
    "    var statistics = [\n",
    "        {id: 1, name: \"Cristiano Ronaldo\", goals: 140, appearances: 183, age: 37},\n",
    "        {id: 2, name: \"Lionel Messi\", goals: 127, appearances: 159, age: 35},\n",
    "        {id: 3, name: \"Robert Lewandowski\", goals: 91, appearances: 110, age: 34},\n",
    "        {id: 4, name: \"Karim Benzema\", goals: 86, appearances: 145, age: 34},\n",
    "        {id: 5, name: \"Raul\", goals: 71, appearances: 142, age: 45}\n",
    "]\n",
    "</script>\n",
    "<table class=\"table table-hover table-dark table-striped\">\n",
    "<tr>\n",
    "    <th>Rank</th>\n",
    "    <th>Name</th>\n",
    "    <th>goals</th>\n",
    "    <th>appearances</th>\n",
    "    <th>age</th>\n",
    "</tr>\n",
    "<script>\n",
    "    var output = \"\";\n",
    "    for (index in statistics) {\n",
    "        output += '<tr><td>';\n",
    "        output += statistics[index].id;\n",
    "        output += '</td>';\n",
    "        output += '<td>';\n",
    "        output += statistics[index].name;\n",
    "        output += '</td>';\n",
    "        output += '<td>';\n",
    "        output += statistics[index].goalss;\n",
    "        output += '</td>';\n",
    "        output += '<td>';\n",
    "        output += statistics[index].appearances;\n",
    "        output += '</td>';\n",
    "        output += '<td>';\n",
    "        output += statistics[index].age;\n",
    "        output += '</td>';\n",
    "        output += '</tr>';\n",
    "    }\n",
    "    document.write(output);\n",
    "</script>\n",
    "</table>"
   ]
  }
 ],
 "metadata": {
  "kernelspec": {
   "display_name": "Python 3.10.7 64-bit",
   "language": "python",
   "name": "python3"
  },
  "language_info": {
   "codemirror_mode": {
    "name": "ipython",
    "version": 3
   },
   "file_extension": ".py",
   "mimetype": "text/x-python",
   "name": "python",
   "nbconvert_exporter": "python",
   "pygments_lexer": "ipython3",
   "version": "3.10.7"
  },
  "orig_nbformat": 4,
  "vscode": {
   "interpreter": {
    "hash": "b0fa6594d8f4cbf19f97940f81e996739fb7646882a419484c72d19e05852a7e"
   }
  }
 },
 "nbformat": 4,
 "nbformat_minor": 2
}
