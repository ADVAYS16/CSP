{
 "cells": [
  {
   "cell_type": "markdown",
   "metadata": {},
   "source": [
    "# Night at the Museum\n",
    "> Night at the Museum\n",
    "- toc:true\n",
    "- badges: true\n",
    "- comments: true\n",
    "- categories: [Posts]\n",
    "- title: Night at the Museum"
   ]
  },
  {
   "cell_type": "markdown",
   "metadata": {},
   "source": [
    "Night at the Museum was an incredible experience and I had a great time. I enjoyed visiting other classes and experiencing other teams present their projects. One team had created a forum in which users could comment and write, which I found captivating. I was also able to reflect on my groups work. For example, after reviewing other projects, I felt that we could have integrated our different roles in a singular element. I saw a group who had built a hangman in which they used an api, stored data, and had frontend design. Unlike our group, they were able to make a project in which all items could be used in one element. Another class I visited was 3D Animation. I was surprised by the realism and noticed the intricacy involved. Many of the animations had shadows and a subject which captured my attention. I was really interested in Ceramics. I plan on taking the class later in highschool and was fascinated by the designs. I felt that the octopus was by far the best one. It had specific tentacles and suckers. Lastly, it felt good to present our work and effort. Images can be seen below.\n",
    "\n"
   ]
  }
 ],
 "metadata": {
  "kernelspec": {
   "display_name": "Python 3.10.7 64-bit",
   "language": "python",
   "name": "python3"
  },
  "language_info": {
   "name": "python",
   "version": "3.10.7"
  },
  "orig_nbformat": 4,
  "vscode": {
   "interpreter": {
    "hash": "b0fa6594d8f4cbf19f97940f81e996739fb7646882a419484c72d19e05852a7e"
   }
  }
 },
 "nbformat": 4,
 "nbformat_minor": 2
}
