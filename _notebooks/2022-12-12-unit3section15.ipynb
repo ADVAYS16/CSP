{
 "cells": [
  {
   "cell_type": "markdown",
   "metadata": {},
   "source": [
    "# Hacks \n",
    "> Yay!\n",
    "\n",
    " \n",
    "- toc: true \n",
    "- badges: true\n",
    "- comments: true"
   ]
  },
  {
   "attachments": {},
   "cell_type": "markdown",
   "metadata": {},
   "source": [
    "<strong>(1) Reflection</strong>\n",
    "\n",
    "Thorough notes or summary that reflects understanding of today's lesson.\n",
    "\n",
    "In today's lesson I learned about libraries, documentation, and API's. Libraries allow a user to reference pre written code. Documentation is a process in which an individual explains code. API's (application program interfaces) specify how procedures in libraries should behave and be utilized. I was introduced to the random function and I learned of its application. For example we can use randrange, randint, and random to specify the random value being provided."
   ]
  },
  {
   "attachments": {},
   "cell_type": "markdown",
   "metadata": {},
   "source": [
    "<strong>(2) Multiple Choice</strong>"
   ]
  },
  {
   "attachments": {},
   "cell_type": "markdown",
   "metadata": {},
   "source": [
    "1. What does the random(a,b) function generate? \n",
    "\n",
    "    A. A random integer from a to be exclusive\n",
    "\n",
    "    <mark>B. A random integer from a to b inclusive.</mark>\n",
    "\n",
    "    C. A random word from variable a to variable b exclusive.\n",
    "\n",
    "    D. A random word from variable a to variable b inclusive.\n",
    "\n",
    "\n",
    "2. What is x, y, and z in random.randrange(x, y, z)?\n",
    "\n",
    "    <mark>A. x = start, y = stop, z = step</mark>\n",
    "\n",
    "    B. x = start, y = step, z = stop\n",
    "\n",
    "    C. x = stop, y = start, z = step \n",
    "\n",
    "    D. x = step, y = start, z = stop\n",
    "\n",
    "3. Which of the following is NOT part of the random library?\n",
    "\n",
    "    <mark>A. random.item</mark>\n",
    "\n",
    "    B. random.random\n",
    "\n",
    "    C. random.shuffle\n",
    "\n",
    "    D. random.randint\n"
   ]
  },
  {
   "attachments": {},
   "cell_type": "markdown",
   "metadata": {},
   "source": [
    "<strong>(3) Short Answer Questions</strong>\n",
    "\n",
    "1. What is the advantage of using libraries? \n",
    "   - Libraries allow a user to simplify his or her code by referencing pre written code. This allows for greater efficiency and reliability.\n",
    "\n",
    "2. Write a thorough documentation of the following code.\n",
    "   - "
   ]
  },
  {
   "cell_type": "code",
   "execution_count": 5,
   "metadata": {},
   "outputs": [
    {
     "name": "stdout",
     "output_type": "stream",
     "text": [
      " Kumesh is going to buy the meal today!\n"
     ]
    }
   ],
   "source": [
    "import random \n",
    "\n",
    "names_string = input(\"Give me everybody's names, seperated by a comma.\")\n",
    "names = names_string.split(\",\")\n",
    "\n",
    "num_items = len(names)\n",
    "\n",
    "random_choice = random.randint(0, num_items - 1)\n",
    "\n",
    "person_who_will_pay = names[random_choice]\n",
    "\n",
    "print(f\"{person_who_will_pay} is going to buy the meal today!\")"
   ]
  },
  {
   "cell_type": "markdown",
   "metadata": {},
   "source": [
    "Documentation: The function takes an input of names and assigns each name an integer. Then the randint function randomly selects a number that is assigned to a specific name. Finally the name is printed along with the sentence."
   ]
  },
  {
   "attachments": {},
   "cell_type": "markdown",
   "metadata": {},
   "source": [
    "<strong>(4) Coding Challenges!</strong>\n",
    "\n",
    "<mark>REQUIRED<mark>: Create programs in python to complete the two task\n",
    "\n",
    "1. Create a program to pick five random names from a list of at least 15 names\n",
    "2. Create a program to simulate a dice game where each player rolls two fair dice (6 sides); the player with the greater sum wins"
   ]
  },
  {
   "cell_type": "code",
   "execution_count": 4,
   "metadata": {},
   "outputs": [
    {
     "name": "stdout",
     "output_type": "stream",
     "text": [
      "Rohin\n",
      "Joe\n",
      "Babbar\n",
      "Obama\n",
      "Tyrone\n"
     ]
    }
   ],
   "source": [
    "import random\n",
    "\n",
    "names = [\"Dontavious\", \"Rohin\", \"Quandale\", \"Putin\", \"Shamly\", \"Babbar\", \"Jaria\",\"Brogden\",\"Tyrone\",\"Miheer\", \"Obama\", \"Joe\", \"Kumesh\", \"Shindi\",\"Prao\" ]\n",
    "\n",
    "for i in range(5):\n",
    "    print(names[random.randint(0,14)])"
   ]
  },
  {
   "cell_type": "code",
   "execution_count": 6,
   "metadata": {},
   "outputs": [
    {
     "name": "stdout",
     "output_type": "stream",
     "text": [
      "Player 1 rolled a 2 and 5 for a sum of: 7\n",
      "Player 2 rolled a 1 and 2 for a sum of: 3\n",
      "Player 1 wins!\n"
     ]
    }
   ],
   "source": [
    "import random \n",
    "\n",
    "p1dice1 = random.randrange(1,6)\n",
    "p1dice2 = random.randrange(1,6)\n",
    "print(\"Player 1 rolled a\", p1dice1, \"and\", p1dice2, \"for a sum of:\", p1dice1+p1dice2)\n",
    "\n",
    "p2dice1 = random.randrange(1,6)\n",
    "p2dice2 = random.randrange(1,6)\n",
    "print(\"Player 2 rolled a\", p2dice1, \"and\", p2dice2, \"for a sum of:\", p2dice1+p2dice2)\n",
    "\n",
    "p1sum = p1dice1 + p1dice2\n",
    "p2sum = p2dice1 + p2dice2\n",
    "\n",
    "if p1sum > p2sum:\n",
    "    print(\"Player 1 wins!\")\n",
    "elif p1sum == p2sum:\n",
    "    print(\"Roll again! You both rolled the same sum.\")\n",
    "else: \n",
    "    print(\"Yay! Player 2 wins!\")"
   ]
  },
  {
   "cell_type": "markdown",
   "metadata": {},
   "source": [
    "I utilized a random library to simulate the rolling of dice. I set the variables to a random number between 1-6. Finally each variable is named according to the user and the output is summed together in order to compare the numbers. "
   ]
  }
 ],
 "metadata": {
  "kernelspec": {
   "display_name": "Python 3.10.7 64-bit",
   "language": "python",
   "name": "python3"
  },
  "language_info": {
   "codemirror_mode": {
    "name": "ipython",
    "version": 3
   },
   "file_extension": ".py",
   "mimetype": "text/x-python",
   "name": "python",
   "nbconvert_exporter": "python",
   "pygments_lexer": "ipython3",
   "version": "3.10.7"
  },
  "orig_nbformat": 4,
  "vscode": {
   "interpreter": {
    "hash": "b0fa6594d8f4cbf19f97940f81e996739fb7646882a419484c72d19e05852a7e"
   }
  }
 },
 "nbformat": 4,
 "nbformat_minor": 2
}
