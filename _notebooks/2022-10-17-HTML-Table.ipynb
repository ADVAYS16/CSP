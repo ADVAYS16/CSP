{
 "cells": [
  {
   "cell_type": "markdown",
   "metadata": {
    "vscode": {
     "languageId": "html"
    }
   },
   "source": [
    "---\n",
    "layout: post\n",
    "toc: true\n",
    "description: \"Making a table from Javascript data\"\n",
    "categories: [javascript, html]\n",
    "title: Champion's League Table\n",
    "\n",
    "---\n",
    "I will demonstrate usage of both HTML fragments and Javascript to make a table of the top 5 goal scorers in Champion's League History.\n",
    "\n",
    "<script>\n",
    "    var statistics = [\n",
    "        {id: 1, name: \"Cristiano Ronaldo\", Goals: 140, Appearances: 183, Age: 37},\n",
    "        {id: 2, name: \"Lionel Messi\", Goals: 127, Appearances: 159, Age: 35},\n",
    "        {id: 3, name: \"Robert Lewandowski\", Goals: 91, Appearances: 110, Age: 34},\n",
    "        {id: 4, name: \"Karim Benzema\", Goals: 86, Appearances: 145, Age: 34},\n",
    "        {id: 5, name: \"Raul\", Goals: 71, Appearances: 142, Age: 45}\n",
    "]\n",
    "</script>\n",
    "<table class=\"table table-hover table-dark table-striped\">\n",
    "<tr>\n",
    "    <th>Rank</th>\n",
    "    <th>Name</th>\n",
    "    <th>Goals</th>\n",
    "    <th>Appearances</th>\n",
    "    <th>Age</th>\n",
    "</tr>\n",
    "<script>\n",
    "    var output = \"\";\n",
    "    for (index in statistics) {\n",
    "        output += '<tr><td>';\n",
    "        output += statistics[index].id;\n",
    "        output += '</td>';\n",
    "        output += '<td>';\n",
    "        output += statistics[index].name;\n",
    "        output += '</td>';\n",
    "        output += '<td>';\n",
    "        output += statistics[index].Goals;\n",
    "        output += '</td>';\n",
    "        output += '<td>';\n",
    "        output += statistics[index].Appearances;\n",
    "        output += '</td>';\n",
    "        output += '<td>';\n",
    "        output += statistics[index].Age;\n",
    "        output += '</td>';\n",
    "        output += '</tr>';\n",
    "    }\n",
    "    document.write(output);\n",
    "</script>\n",
    "</table>"
   ]
  }
 ],
 "metadata": {
  "kernelspec": {
   "display_name": "JavaScript (Node.js)",
   "language": "javascript",
   "name": "javascript"
  },
  "language_info": {
   "file_extension": ".js",
   "mimetype": "application/javascript",
   "name": "javascript",
   "version": "10.13.0"
  },
  "orig_nbformat": 4,
  "vscode": {
   "interpreter": {
    "hash": "9e0221e54b57df3dfb83a7d361cc714196174ed68351e934d847ddcd947b393c"
   }
  }
 },
 "nbformat": 4,
 "nbformat_minor": 2
}
