{
 "cells": [
  {
   "cell_type": "markdown",
   "metadata": {},
   "source": [
    "# Final Blog\n",
    "- toc: true\n",
    "- badges: true\n",
    "- comments: true\n",
    "- categories: [Posts]\n",
    "- title: Final Blog"
   ]
  },
  {
   "cell_type": "markdown",
   "metadata": {},
   "source": [
    "![Alt text](../images/Screen%20Shot%202022-11-08%20at%2012.49.49%20PM.png)\n",
    "\n",
    "\n",
    "Overall: \n",
    "\n",
    "I felt pretty good about my Final Attempt. I did struggle on a few questions and missed 6 in total. A Majority of the questions I missed were regarding the analysis of a specific piece of code. I was unsure on what the code did exactly and took an educated guess on a few of them. I feel that I could have done better if I had revised my answers as I feel that I could have caught some simple mistakes. Also I found it difficult to understand exactly what some of the coded segments were implying due to the format. \n",
    "\n",
    "Specifics: \n",
    "\n",
    "I was still confused on a few questions even after reviewing the answers. For example, question 35 was related to setting the value of a variable based of an existing value of time. I reviewed the answer and realized that my selected answer was assigning the opposite value. Instead of setting 30 for when time is greater than 1 I was setting 50. Although I see why Answer A is correct, I am still confused as why \"maxPS=50\" is placed above the if else statement.\n",
    "\n",
    "What Next?:\n",
    "\n",
    "For the next final or test I feel that I can work on rereading and revisiting questions. By simply returning to a question with a blank mind, I feel like I could have approached the question differently. Many times I felt a bit confused by the format of the code and variables included. This confusion caused many of my mistakes and I feel that I could have answered them correctly by simply revisiting the question."
   ]
  }
 ],
 "metadata": {
  "kernelspec": {
   "display_name": "Python 3.9.12 ('base')",
   "language": "python",
   "name": "python3"
  },
  "language_info": {
   "name": "python",
   "version": "3.9.12"
  },
  "orig_nbformat": 4,
  "vscode": {
   "interpreter": {
    "hash": "9e0221e54b57df3dfb83a7d361cc714196174ed68351e934d847ddcd947b393c"
   }
  }
 },
 "nbformat": 4,
 "nbformat_minor": 2
}
