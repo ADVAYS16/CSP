{
 "cells": [
  {
   "cell_type": "markdown",
   "metadata": {},
   "source": [
    "# HTML Table\n",
    "> HTML and Javascript Fragments\n",
    "- toc:true\n",
    "- badges: true\n",
    "- comments: true\n",
    "- categories: [Posts]\n",
    "- title: HTML and Javascript Fragments"
   ]
  },
  {
   "cell_type": "code",
   "execution_count": null,
   "metadata": {
    "vscode": {
     "languageId": "html"
    }
   },
   "outputs": [],
   "source": [
    "|            | Definition                                                               |\n",
    "|------------|--------------------------------------------------------------------------|\n",
    "| Github     | GitHub is a code hosting platform for   version control and collaboration|\n",
    "| Python     | High-level object-oriented scripting language                            |\n",
    "| Fastpages  | A cloud based blogging platform with Jupiter Notebook implementation     |\n",
    "| Repository | A Place in which Code is stored and saved                                |\n",
    "| Print      | A way to display messages through Python                                 |\n",
    "| Lists      | A sequence of elements                                                   |\n",
    "| Dictionary | Used to store information in Python                                      |"
   ]
  }
 ],
 "metadata": {
  "kernelspec": {
   "display_name": "Python 3.10.7 64-bit",
   "language": "python",
   "name": "python3"
  },
  "language_info": {
   "name": "python",
   "version": "3.10.7"
  },
  "orig_nbformat": 4,
  "vscode": {
   "interpreter": {
    "hash": "b0fa6594d8f4cbf19f97940f81e996739fb7646882a419484c72d19e05852a7e"
   }
  }
 },
 "nbformat": 4,
 "nbformat_minor": 2
}
