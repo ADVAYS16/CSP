{
 "cells": [
  {
   "cell_type": "markdown",
   "metadata": {},
   "source": [
    "# Java Script Kernel Post\n",
    "> Javascript Kernel Post\n",
    "- toc:true\n",
    "- badges: true\n",
    "- comments: true\n",
    "- categories: [Posts]\n",
    "- title: Javascript Kernel Post"
   ]
  },
  {
   "cell_type": "markdown",
   "metadata": {},
   "source": [
    "Finds the product of 2 numbers."
   ]
  },
  {
   "cell_type": "code",
   "execution_count": 1,
   "metadata": {},
   "outputs": [
    {
     "data": {
      "text/plain": [
       "625"
      ]
     },
     "execution_count": 1,
     "metadata": {},
     "output_type": "execute_result"
    }
   ],
   "source": [
    "function myFunction(a, b) {\n",
    "  return a * b;\n",
    "}\n",
    "myFunction(125,5)"
   ]
  },
  {
   "cell_type": "markdown",
   "metadata": {},
   "source": [
    "This Code Converts from Fahrenheit to Celsius."
   ]
  },
  {
   "cell_type": "code",
   "execution_count": 2,
   "metadata": {},
   "outputs": [
    {
     "data": {
      "text/plain": [
       "-17.77777777777778"
      ]
     },
     "execution_count": 2,
     "metadata": {},
     "output_type": "execute_result"
    }
   ],
   "source": [
    "function toCelsius(fahrenheit) {\n",
    "    return (5/9) * (fahrenheit-32);\n",
    "  }\n",
    "\n",
    "toCelsius(0)"
   ]
  },
  {
   "cell_type": "markdown",
   "metadata": {},
   "source": [
    "Determines whether an integer is odd or even."
   ]
  },
  {
   "cell_type": "code",
   "execution_count": 3,
   "metadata": {},
   "outputs": [
    {
     "name": "stdout",
     "output_type": "stream",
     "text": [
      "24 is an even number\n"
     ]
    }
   ],
   "source": [
    "function IsOdd(x){\n",
    "    if (x % 2 == 0) {\n",
    "        console.log(x + \" is an even number\");\n",
    "    }  else {\n",
    "       console.log(x + \" is an odd number\");\n",
    "    }\n",
    "    \n",
    "    }\n",
    "    IsOdd(24)"
   ]
  },
  {
   "cell_type": "markdown",
   "metadata": {},
   "source": [
    "This code takes hours and converts into days, minutes, and seconds."
   ]
  },
  {
   "cell_type": "code",
   "execution_count": 4,
   "metadata": {},
   "outputs": [
    {
     "name": "stdout",
     "output_type": "stream",
     "text": [
      "48 hour(s) is equivalent to 2 days, 2880 minutes, and 172800 seconds.\n"
     ]
    }
   ],
   "source": [
    "function DaysHoursMinutesSeconds(x){\n",
    "    console.log(x + \" hour(s) is equivalent to \" + x/24 + \" days, \" + x*60 + \" minutes, and \" + x*3600 + \" seconds.\")\n",
    "}\n",
    "DaysHoursMinutesSeconds(48)"
   ]
  }
 ],
 "metadata": {
  "kernelspec": {
   "display_name": "JavaScript (Node.js)",
   "language": "javascript",
   "name": "javascript"
  },
  "language_info": {
   "file_extension": ".js",
   "mimetype": "application/javascript",
   "name": "javascript",
   "version": "10.13.0"
  },
  "orig_nbformat": 4,
  "vscode": {
   "interpreter": {
    "hash": "b0fa6594d8f4cbf19f97940f81e996739fb7646882a419484c72d19e05852a7e"
   }
  }
 },
 "nbformat": 4,
 "nbformat_minor": 2
}
