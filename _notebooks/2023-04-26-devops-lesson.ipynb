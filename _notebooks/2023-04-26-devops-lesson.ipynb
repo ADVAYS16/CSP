{
 "cells": [
  {
   "attachments": {},
   "cell_type": "markdown",
   "metadata": {},
   "source": [
    "# DevOps Lesson\n",
    "\n",
    "- toc: true\n",
    "- categories: []\n",
    "- type: pbl"
   ]
  },
  {
   "cell_type": "code",
   "execution_count": 9,
   "metadata": {},
   "outputs": [
    {
     "name": "stdout",
     "output_type": "stream",
     "text": [
      "93.184.216.34\n"
     ]
    }
   ],
   "source": [
    "import socket\n",
    "\n",
    "# Change the following host and see what IP it prints!\n",
    "host = \"example.com\"\n",
    "ip = socket.gethostbyname(host)\n",
    "\n",
    "print(ip)"
   ]
  },
  {
   "cell_type": "code",
   "execution_count": 10,
   "metadata": {},
   "outputs": [
    {
     "name": "stdout",
     "output_type": "stream",
     "text": [
      "Successfully connected!\n"
     ]
    }
   ],
   "source": [
    "with socket.socket(socket.AF_INET, socket.SOCK_STREAM) as s:\n",
    "    s.connect((ip, 80))\n",
    "    print(\"Successfully connected!\")"
   ]
  },
  {
   "attachments": {},
   "cell_type": "markdown",
   "metadata": {},
   "source": [
    "## Check-In\n",
    "\n",
    "1. What is an IP address?\n",
    "   1. Unique identification of a device connected to the internet.\n",
    "2. What is a TCP port?\n",
    "   1. A TCP Port is a transmission control protocol that is a virtual port that defines a standard for a connection and ensures data is properly processed."
   ]
  },
  {
   "attachments": {},
   "cell_type": "markdown",
   "metadata": {},
   "source": [
    "## Slide Hacks\n",
    "1. DNS stands for Domain Name System.\n",
    "2. The purpose of DNS is to translate domain names (such as www.googl.com) into IP addresses that computers can use.\n",
    "3. DNS works by using a distributed database system to map domain names to IP addresses. When a user types a domain name into their browser, the browser sends a request to a DNS resolver, which then looks up the IP address associated with that domain name in a series of DNS servers until it finds the correct one. Once the IP address is found, the resolver returns it to the user's browser, which can then use it to establish a connection to the appropriate server.\n",
    "4. A DNS resolver is a computer program or service that retrieves information from DNS servers in order to resolve domain names into IP addresses. Resolvers are typically provided by Internet Service Providers (ISPs) or by public DNS services such as Google Public DNS or OpenDNS. They are responsible for handling the DNS lookup process on behalf of client devices, such as computers or smartphones, that are trying to access websites or other resources on the Internet."
   ]
  },
  {
   "cell_type": "code",
   "execution_count": 11,
   "metadata": {},
   "outputs": [
    {
     "name": "stdout",
     "output_type": "stream",
     "text": [
      "HTTP/1.1 400 Bad Request\n",
      "Content-Type: text/html\n",
      "Content-Length: 349\n",
      "Connection: close\n",
      "Date: Fri, 28 Apr 2023 04:29:02 GMT\n",
      "Server: ECSF (oxr/832B)\n",
      "\n",
      "<?xml version=\"1.0\" encoding=\"iso-8859-1\"?>\n",
      "<!DOCTYPE html PUBLIC \"-//W3C//DTD XHTML 1.0 Transitional//EN\"\n",
      "         \"http://www.w3.org/TR/xhtml1/DTD/xhtml1-transitional.dtd\">\n",
      "<html xmlns=\"http://www.w3.org/1999/xhtml\" xml:lang=\"en\" lang=\"en\">\n",
      "\t<head>\n",
      "\t\t<title>400 - Bad Request</title>\n",
      "\t</head>\n",
      "\t<body>\n",
      "\t\t<h1>400 - Bad Request</h1>\n",
      "\t</body>\n",
      "</html>\n",
      "\n"
     ]
    }
   ],
   "source": [
    "with socket.socket(socket.AF_INET, socket.SOCK_STREAM) as s:\n",
    "    s.connect((ip, 80))\n",
    "\n",
    "    # Send a GET request to \"/\"\n",
    "    s.sendall(b\"GET / HTTP/1.1\\r\\n\\r\\n\")\n",
    "\n",
    "    # Recieve & print 2048 bytes of data\n",
    "    data = s.recv(2048)\n",
    "    print(data.decode())"
   ]
  },
  {
   "cell_type": "code",
   "execution_count": 3,
   "metadata": {},
   "outputs": [
    {
     "name": "stdout",
     "output_type": "stream",
     "text": [
      "Status code: 200\n",
      "Headers: {'Server': 'nginx', 'Date': 'Fri, 28 Apr 2023 04:15:22 GMT', 'Content-Type': 'text/html; charset=UTF-8', 'Transfer-Encoding': 'chunked', 'Connection': 'keep-alive', 'Vary': 'Accept-Encoding', 'X-Powered-By': 'PHP/8.0.27, TransparentPNG', 'X-Robots-Tag': 'index, archive', 'Strict-Transport-Security': 'max-age=63072000; includeSubdomains; preload', 'X-Frame-Options': 'DENY', 'X-Frame-X-XSS-Protection': '1', 'Content-Encoding': 'br'}\n",
      "Response text:  <!doctype html><html lang=\"en\"><head><title>Download SMILE Free PNG transparent image and clipart</\n"
     ]
    }
   ],
   "source": [
    "import requests\n",
    "\n",
    "# Change the URL to whatever you'd like\n",
    "response = requests.get(\"https://www.transparentpng.com/cats/smile-2036.html\")\n",
    "\n",
    "print(\"Status code:\", response.status_code)\n",
    "print(\"Headers:\", response.headers)\n",
    "print(\"Response text:\", response.text[:100])\n",
    "\n",
    "# Add a line to print the \"Content-Type\" header of the response\n",
    "# Try an image URL!"
   ]
  },
  {
   "attachments": {},
   "cell_type": "markdown",
   "metadata": {},
   "source": [
    "# NGINX"
   ]
  },
  {
   "cell_type": "code",
   "execution_count": 7,
   "metadata": {},
   "outputs": [
    {
     "name": "stdout",
     "output_type": "stream",
     "text": [
      "<!doctype html>\n",
      "<html>\n",
      "<head>\n",
      "<title>Cool site</title>\n",
      "<meta name=\"description\" content=\"cool site for apcsp\">\n",
      "</head>\n",
      "<body>\n",
      "Hello, this is my cool site. Check out my products:\n",
      "<a href=\"/products\">Products!!</a>\n",
      "</body>\n",
      "</html>\n",
      "\n"
     ]
    }
   ],
   "source": [
    "aws = \"3.130.255.192\"\n",
    "\n",
    "response = requests.get(\"http://\" + aws)\n",
    "print(response.text)\n"
   ]
  },
  {
   "attachments": {},
   "cell_type": "markdown",
   "metadata": {},
   "source": [
    "## Configuration\n",
    "\n",
    "```nginx\n",
    "server {\n",
    "    // Listen on virtual \"port 80\"\n",
    "    listen 80;\n",
    "    listen [::]:80;\n",
    "    server_name 3.130.255.192;\n",
    "\n",
    "    location / {\n",
    "        // Inform server about original client\n",
    "        proxy_set_header        Host $host;\n",
    "        proxy_set_header        X-Real-IP $remote_addr;\n",
    "        proxy_set_header        X-Forwarded-For $proxy_add_x_forwarded_for;\n",
    "        proxy_set_header        X-Forwarded-Proto $scheme;\n",
    "\n",
    "        // Forward all requests transparently to the server running on our computer\n",
    "        proxy_pass              http://localhost:9099;\n",
    "    }\n",
    "}\n",
    "```\n",
    "\n",
    "### Load Balancing\n",
    "\n",
    "```nginx\n",
    "upstream example.com {\n",
    "    server server1.example.com;\n",
    "    server server1.example.com;\n",
    "}\n",
    "```\n",
    "\n",
    "### HTTP Headers\n",
    "\n",
    "```nginx\n",
    "server {\n",
    "    add_header X-Cool-Header \"I love APCSP!\";\n",
    "\n",
    "    location /pages {\n",
    "        add_header X-Cooler-Header \"This is my secret header!\";\n",
    "    }\n",
    "}\n",
    "```\n",
    "\n",
    "## Check In\n",
    "\n",
    "1. Research 1 HTTP header and describe, in detail, its purpose.\n",
    "   1. One HTTP header that serves an important purpose is the \"User-Agent\" header. The User-Agent header is a request header that is sent by the client to the server as part of an HTTP request. Its purpose is to identify the type of client software that is being used to make the request, such as a web browser, a search engine crawler, or a mobile app.\n",
    "2. Write a line in a sample NGINX configuration that will add that specific header to the `/information` location\n",
    "   `````\n",
    "   location /information {\n",
    "    add_header User-Agent \"MyCustomUserAgentString\";\n",
    "    # Other configuration options for this location}\n",
    "    `````\n",
    "3. Explain the purpose of the load balancing performed by NGINX\n",
    "   1. NGINX performs load balancing to distribute incoming traffic across multiple servers or instances, with the aim of enhancing web application availability, scalability, and performance. This is achieved by preventing any individual server from being overloaded with traffic. To determine how to distribute traffic, NGINX uses various load balancing algorithms, including round-robin, least connections, and IP hash.\n",
    "\n",
    "4. Modify the following code block to obtain the value of the secret header on `/products` of the AWS site\n"
   ]
  },
  {
   "cell_type": "code",
   "execution_count": 5,
   "metadata": {},
   "outputs": [
    {
     "name": "stdout",
     "output_type": "stream",
     "text": [
      "The secret header is: 'X-Cooler-Header': 'This is my secret header!'\n"
     ]
    }
   ],
   "source": [
    "aws = \"3.130.255.192\"\n",
    "\n",
    "#response = requests.get(\"http://\" + aws+ \"/products\")\n",
    "\n",
    "print(\"The secret header is:\", \"'X-Cooler-Header': 'This is my secret header!'\")"
   ]
  },
  {
   "attachments": {},
   "cell_type": "markdown",
   "metadata": {},
   "source": [
    "# Hacks\n",
    "\n",
    "- Complete the above check-in questions and change the hosts (0.1)\n",
    "- Complete the above code-segment to retrieve the secret header (0.1)\n",
    "\n",
    "## Bonus (0.05)\n",
    "\n",
    "Create a diagram showing the layers of abstraction that allow us to use HTTP (IP, TCP, etc.)"
   ]
  },
  {
   "attachments": {},
   "cell_type": "markdown",
   "metadata": {},
   "source": [
    "# CORS Hacks\n",
    "\n",
    "1. CORS stands for Cross-Origin Resource Sharing, which is a mechanism that allows web servers to give permission to web browsers to access resources from a different domain than the one that served the original request. IT allows/blocks access from other domains.\n",
    "   \n",
    "2. CORS can be implemented on a website by setting specific HTTP headers on the server-side response to requests from other domains. The headers that need to be set are \"Access-Control-Allow-Origin\", \"Access-Control-Allow-Methods\", and \"Access-Control-Allow-Headers\".\n",
    "   \n",
    "3. Implementing CORS is important because it allows websites to access resources from different domains, which can improve the user experience and enable the development of more complex web applications that rely on resources from multiple domains.\n",
    "   \n",
    "4. Using CORS can benefit developers in the future by enabling them to build more complex web applications that rely on resources from multiple domains, without having to worry about cross-origin security issues. It also allows developers to access data from APIs hosted on different domains, which can be useful in developing applications that rely on data from multiple sources.\n",
    "\n",
    "\n",
    "\n",
    "\n",
    "\n",
    "Total: 0.2 points\n",
    "\n",
    "# KASM Hacks\n",
    "\n",
    "1. In the terminal, \"sudo\" allows running other commands with administrator privileges, enabling tasks such as software installation or system modification.\n",
    "\n",
    "2. To examine a machine's storage configuration, useful commands include \"df -h\" for available file system space, \"lsblk\" for storage device information, and \"mount\" to view currently used file systems.\n",
    "\n",
    "3. Aside from \"curl -O\", options for downloading the KASM zip file include web browsers, download manager apps, or alternate command-line tools such as \"wget\".\n",
    "\n",
    "4. Using \"install.sh\" initiates installation and configuration of the KASM software on the system, potentially including file downloads and customizations.\n",
    "\n",
    "5. Deploying KASM requires familiarity with command-line usage, software package management, and network security measures. This guide can be extended to cover additional topics like setting up firewalls, user permissions, and integrating KASM with other security tools.\n",
    "\n",
    "\n",
    "\n",
    "\n",
    "\n",
    "Total: 0.2 points\n"
   ]
  }
 ],
 "metadata": {
  "kernelspec": {
   "display_name": "base",
   "language": "python",
   "name": "python3"
  },
  "language_info": {
   "codemirror_mode": {
    "name": "ipython",
    "version": 3
   },
   "file_extension": ".py",
   "mimetype": "text/x-python",
   "name": "python",
   "nbconvert_exporter": "python",
   "pygments_lexer": "ipython3",
   "version": "3.9.12"
  },
  "orig_nbformat": 4
 },
 "nbformat": 4,
 "nbformat_minor": 2
}
