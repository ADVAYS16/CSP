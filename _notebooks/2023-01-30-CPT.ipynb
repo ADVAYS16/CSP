{
 "cells": [
  {
   "attachments": {},
   "cell_type": "markdown",
   "metadata": {},
   "source": [
    "# Week CPT Prep\n",
    "- title: CPT Prep \n",
    "- categories: [Week]"
   ]
  },
  {
   "attachments": {},
   "cell_type": "markdown",
   "metadata": {},
   "source": [
    "# Our Idea: A Dating APP\n",
    "\n",
    "We aim to create a platform in which individuals are able to find romantic or platonic relationships. We aim to implement a chat box, google map integration, profile creation, profile matching, and personality testing. I will be working with all aspects of the project as one the main backend and frontend developers. I will however be spending more time focused on the map integration and the user interface. We have already created an overall theme to build off of and I would like to create a cohesive project integrating this theme. I will also be working on the google map integration. This feature will integrate and api and a database as we aim to show users in a specific area. This itself may not be enough for my Personal CPT but can be an smaller part of an overall project. "
   ]
  }
 ],
 "metadata": {
  "kernelspec": {
   "display_name": "Python 3",
   "language": "python",
   "name": "python3"
  },
  "language_info": {
   "name": "python",
   "version": "3.10.9 (main, Dec 15 2022, 10:44:50) [Clang 14.0.0 (clang-1400.0.29.202)]"
  },
  "orig_nbformat": 4,
  "vscode": {
   "interpreter": {
    "hash": "b0fa6594d8f4cbf19f97940f81e996739fb7646882a419484c72d19e05852a7e"
   }
  }
 },
 "nbformat": 4,
 "nbformat_minor": 2
}
