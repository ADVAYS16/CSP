{
 "cells": [
  {
   "attachments": {},
   "cell_type": "markdown",
   "metadata": {},
   "source": [
    "# Week Midterm\n",
    "- title: Midterm Reflection \n",
    "- categories: [Week]"
   ]
  },
  {
   "attachments": {},
   "cell_type": "markdown",
   "metadata": {},
   "source": [
    "![Alt text](../images/Screen%20Shot%202023-01-30%20at%2011.39.27%20AM.png)\n",
    "\n",
    "# QUESTION 11\n",
    "\n",
    "![Alt text](../../../../../var/folders/hn/zlpr6bsn4nl7cb40b_qm5fsr0000gn/T/TemporaryItems/NSIRD_screencaptureui_IB0hzE/Screen%20Shot%202023-01-30%20at%2011.41.41%20AM.png)\n",
    "\n",
    "Analysis: This option is incorrect. If input B is true, then the resulting value coming out of the OR gate will be true. Since the value of C is true, the resulting value coming out of the AND gate is true. This result contradicts the statement. I think I was too quick to answer and was not careful with what I was clicking.\n",
    "\n",
    "# QUESTION 12\n",
    "\n",
    "![Alt text](../../../../../var/folders/hn/zlpr6bsn4nl7cb40b_qm5fsr0000gn/T/TemporaryItems/NSIRD_screencaptureui_ispyBa/Screen%20Shot%202023-01-30%20at%2011.43.07%20AM.png)\n",
    "\n",
    "ANALYSIS: The answer is \"OR\" instead of \"AND\" because the elevator should move only if the door is closed and the elevator is called to a floor that it is not currently on.\n",
    "\n",
    "# QUESTION 17\n",
    "![Alt text](../../../../../var/folders/hn/zlpr6bsn4nl7cb40b_qm5fsr0000gn/T/TemporaryItems/NSIRD_screencaptureui_vfSH0k/Screen%20Shot%202023-01-30%20at%2011.46.11%20AM.png)\n",
    "\n",
    "ANALYSIS: Half Right. D implements the Boolean expression result ← val1 AND NOT val2 using nested IF statements. It checks if val1 is true, then checks if val2 is true. If both val1 and val2 are true, result is set to false. If val2 is false, result is set to true. If val1 is false, result is set to false.\n",
    "\n",
    "# Question 19\n",
    "\n",
    "![Alt text](../../../../../var/folders/hn/zlpr6bsn4nl7cb40b_qm5fsr0000gn/T/TemporaryItems/NSIRD_screencaptureui_VCMhyV/Screen%20Shot%202023-01-30%20at%2011.48.36%20AM.png)\n",
    "\n",
    "Analysis: November is the answer. I misclicked and I should have been more careful.\n",
    "\n",
    "# QUESTION 21\n",
    "\n",
    "![Alt text](../../../../../var/folders/hn/zlpr6bsn4nl7cb40b_qm5fsr0000gn/T/TemporaryItems/NSIRD_screencaptureui_5qq6Vs/Screen%20Shot%202023-01-30%20at%2011.50.00%20AM.png)\n",
    "\n",
    "Analysis: The result of running the program is an infinite loop because the program is intended to repeat the same set of operations until the value of \"i\" is equal to 4, however there is no statement within the REPEAT UNTIL loop that increments the value of \"i\". As a result, the value of \"i\" will remain constant at zero and the loop will repeat forever.\n",
    "\n",
    "# Question 27\n",
    "\n",
    "![Alt text](../../../../../var/folders/hn/zlpr6bsn4nl7cb40b_qm5fsr0000gn/T/TemporaryItems/NSIRD_screencaptureui_V9kr27/Screen%20Shot%202023-01-30%20at%2011.51.52%20AM.png)\n",
    "\n",
    "Analysis: I am still unsure about this and will be asking for help from either a peer or Mr. Yeung in Class.\n",
    "\n",
    "# Question 28\n",
    "![Alt text](../../../../../var/folders/hn/zlpr6bsn4nl7cb40b_qm5fsr0000gn/T/TemporaryItems/NSIRD_screencaptureui_InvlWO/Screen%20Shot%202023-01-30%20at%2011.54.46%20AM.png)\n",
    "\n",
    "Analysis: Should have selected 2 answers rather than just one. Need to spend time reading the question and going back after answering.\n",
    "\n",
    "# Question 29\n",
    "![Alt text](../../../../../var/folders/hn/zlpr6bsn4nl7cb40b_qm5fsr0000gn/T/TemporaryItems/NSIRD_screencaptureui_bNX0dH/Screen%20Shot%202023-01-30%20at%2011.56.24%20AM.png)\n",
    "\n",
    "Analysis: Pay attention to the starting position and the way it faces as it can change the final answer.\n",
    "\n",
    "# Question 30 \n",
    "\n",
    "![Alt text](../../../../../var/folders/hn/zlpr6bsn4nl7cb40b_qm5fsr0000gn/T/TemporaryItems/NSIRD_screencaptureui_LlX8bE/Screen%20Shot%202023-01-30%20at%2011.57.47%20AM.png)\n",
    "\n",
    "Analysis: Again spend time looking at the pseudocode. Don't rush. Take your time and try to understand the question.\n",
    "\n",
    "# Question 36\n",
    "![Alt text](../../../../../var/folders/hn/zlpr6bsn4nl7cb40b_qm5fsr0000gn/T/TemporaryItems/NSIRD_screencaptureui_quTFZZ/Screen%20Shot%202023-01-30%20at%2011.59.45%20AM.png)\n",
    "\n",
    "Analysis: The variable count is initially set to 0 and is incremented only when the current item in the list (represented by the variable n) equals the value of the variable target. Even if target is not in the list it will provide an output of 0.\n",
    "\n",
    "\n",
    "## Reflection\n",
    "\n",
    "Overall I think I struggled with understanding College Board's Pseudocode and the Robot Movement questions. I can work on this by going back to the student lessons and learning more about the pseudocode terminology. I also think that I should take more time reading the question as I feel like I rushed into answering. This caused simple mistakes and lead to a lower overall score.\n"
   ]
  }
 ],
 "metadata": {
  "kernelspec": {
   "display_name": "Python 3",
   "language": "python",
   "name": "python3"
  },
  "language_info": {
   "name": "python",
   "version": "3.10.9 (main, Dec 15 2022, 10:44:50) [Clang 14.0.0 (clang-1400.0.29.202)]"
  },
  "orig_nbformat": 4,
  "vscode": {
   "interpreter": {
    "hash": "b0fa6594d8f4cbf19f97940f81e996739fb7646882a419484c72d19e05852a7e"
   }
  }
 },
 "nbformat": 4,
 "nbformat_minor": 2
}
