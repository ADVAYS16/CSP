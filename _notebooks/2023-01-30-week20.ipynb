{
 "cells": [
  {
   "attachments": {},
   "cell_type": "markdown",
   "metadata": {},
   "source": [
    "# Week 20 Hacks\n",
    "- title: Big Idea 5.1 Beneficial and Harmful Effects & Big Idea 5.2 Digital Divide\n",
    "- categories: [Week]"
   ]
  },
  {
   "attachments": {},
   "cell_type": "markdown",
   "metadata": {},
   "source": [
    "## 5.1\n",
    "- Come up with three of your own Beneficial and corresponding Harmful Effects of Computing\n",
    "  - Beneficial: \n",
    "    - Improved access to Free information: With the help of computers and the internet, we can access a vast amount of information and knowledge in just a few clicks. It used to be far more difficult to find information as one would have to find a book related to the subject and parse through it to find an answer. We know can simply search up any question and find quality answers.\n",
    "    - Increased Tracing / Storage: Computers and technology has improved drastically over the past few decades and these improvements have created fundamental changes in many basic tasks. Our technology allows for better organization and therefore allows greater productivity.\n",
    "    - Enhanced communication: We can communicate with people all over the world through email, video conferencing, and instant messaging. \n",
    "  - Harmful:\n",
    "    - Addiction: Excessive use of technology can result in addiction, which can negatively impact our mental and physical health.\n",
    "    - Decreased face-to-face interaction: Spending too much time online can lead to a decrease in real-life interactions, which can have a negative impact on our social and emotional well-being. This can also have negative impact on our physical health as we may be more inclined to staying in one place rather than meeting others outside.\n",
    "    - Cyberbullying: The internet makes it easy to hide one's identity or purpose as it can be very discrete. This allows indvidiuals and primarily students to engage in cyberbullying as they are able to limit their risk of being caught. This can have detrimental effects on those who are being bullied.\n",
    "\n",
    "- Talk about dopamine issues above. Real? Parent conspiracy? Anything that is impacting your personal study and success in High School?\n",
    "  - I definitely think that the access of dopamine may be an issue as it creates overstimulation. I have noticed that as I have started spending more time using devices and technology, I seem to get bored much quicker. As a kid it was very hard to get bored as I was always doing something but as I started spending more time with technology I felt that I would get bored quicker as there was less stimulation or easy dopamine in the real world then there was on the internet. I think I experienced this most during quarantine as I spent a majority of time inside on devices and I lacked self control. As I have grown and matured I have found ways of limiting my usage as it interferes with personal tasks.\n",
    "\n",
    "## 5.2\n",
    "- How does someone empower themself in a digital world?\n",
    "  - Individuals can empower themselves in the digital world by seeking opportunities to learn more about the use of technology. By learning new ways of utilizing technology, one can increase productivity and creativity.\n",
    "- How does someone that is empowered help someone that is not empowered? Describe something you could do at Del Norte HS.\n",
    "  - We can help others at Del Norte by assisting students who may have limited understanding. At DNHS, I can provide tutoring or help to students taking classes I have already completed. \n",
    "- Is paper or red tape blocking digital empowerment? Are there such barriers at Del Norte? Elsewhere?\n",
    "  - It is true that paper or red tape can block or hinder the progress of digital empowerment. This is because those in positions of power, such as the government, have the ability to control or restrict access to information. These barriers exist not only at Del Norte High School but also in other places. This power imbalance causes barriers such as censorship, lack of information, and misinformation.  Despite efforts to ensure that everyone is informed, there will always be restrictions on information. We can work on this by trusting our fellow peers and being open minded."
   ]
  }
 ],
 "metadata": {
  "kernelspec": {
   "display_name": "Python 3",
   "language": "python",
   "name": "python3"
  },
  "language_info": {
   "name": "python",
   "version": "3.10.9 (main, Dec 15 2022, 10:44:50) [Clang 14.0.0 (clang-1400.0.29.202)]"
  },
  "orig_nbformat": 4,
  "vscode": {
   "interpreter": {
    "hash": "b0fa6594d8f4cbf19f97940f81e996739fb7646882a419484c72d19e05852a7e"
   }
  }
 },
 "nbformat": 4,
 "nbformat_minor": 2
}
