{
 "cells": [
  {
   "cell_type": "markdown",
   "metadata": {},
   "source": [
    "# Unit 3 Section 9-15 Reflection\n",
    "> My Reflection!\n",
    "- toc: true \n",
    "- badges: true\n",
    "- comments: true"
   ]
  },
  {
   "cell_type": "markdown",
   "metadata": {},
   "source": [
    "# Scores\n",
    "\n",
    "  - Unit 3 Section 9 - 11: 0.89/1 \n",
    "      - I received the score stated above due to the fact that my notes were minimal and I had nothing extra. I felt that my notes were adequate as they helped me but I can understand why I might have lost points. \n",
    "\n",
    "  - Unit 3 Section 12 - 13: 0.9/1\n",
    "      - I received said score due to the fact that I completed all requirements. I had nothing extra or specifically unique which resulted in me receiving a 0.9/1.\n",
    "\n",
    "  - Unit 3 Section 14 - 15: 0.9/1\n",
    "      -  I received said score as I did not have anything extra.\n",
    "\n",
    "- Overall I feel like I received adequate scores as I did not have much extra. I think that I should try working extra over the weekend when I can rather than simply doing as much as I can during the week."
   ]
  }
 ],
 "metadata": {
  "kernelspec": {
   "display_name": "Python 3.10.7 64-bit",
   "language": "python",
   "name": "python3"
  },
  "language_info": {
   "name": "python",
   "version": "3.10.9"
  },
  "orig_nbformat": 4,
  "vscode": {
   "interpreter": {
    "hash": "b0fa6594d8f4cbf19f97940f81e996739fb7646882a419484c72d19e05852a7e"
   }
  }
 },
 "nbformat": 4,
 "nbformat_minor": 2
}
