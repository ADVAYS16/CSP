{
 "cells": [
  {
   "cell_type": "markdown",
   "metadata": {},
   "source": [
    "# Champion's League Quiz\n",
    "> Champion's League Quiz\n",
    "- toc:true\n",
    "- badges: true\n",
    "- comments: true\n",
    "- categories: [Posts]\n",
    "- title: Champion's League Quiz"
   ]
  },
  {
   "cell_type": "markdown",
   "metadata": {},
   "source": [
    "This week I worked on a Champion's league quiz on \"Code.org\". I wanted to test other's knowledge on the soccer tournament. I asked questions regarding the history of the league and recent winners. I used music, variables, images, and buttons in order to create this quiz. I had some difficulty trying to score the quiz and linking the buttons correctly. I set on events in order for the screens to change when a button or image is pressed. I utilized \"score=score+1\" in order to score the quiz and displayed the score on the final screen. I also added music from the point you start the quiz to the point the score is displayed. I think that I could have asked a few more questions in my quiz and utilized gifs or other forms of media in my quiz."
   ]
  }
 ],
 "metadata": {
  "kernelspec": {
   "display_name": "Python 3.10.6 64-bit",
   "language": "python",
   "name": "python3"
  },
  "language_info": {
   "name": "python",
   "version": "3.10.6"
  },
  "orig_nbformat": 4,
  "vscode": {
   "interpreter": {
    "hash": "b0fa6594d8f4cbf19f97940f81e996739fb7646882a419484c72d19e05852a7e"
   }
  }
 },
 "nbformat": 4,
 "nbformat_minor": 2
}
